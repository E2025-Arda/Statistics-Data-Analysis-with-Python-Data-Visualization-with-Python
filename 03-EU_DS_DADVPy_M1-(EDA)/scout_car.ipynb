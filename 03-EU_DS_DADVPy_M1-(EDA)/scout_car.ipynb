{
 "metadata": {
  "language_info": {
   "codemirror_mode": {
    "name": "ipython",
    "version": 3
   },
   "file_extension": ".py",
   "mimetype": "text/x-python",
   "name": "python",
   "nbconvert_exporter": "python",
   "pygments_lexer": "ipython3",
   "version": "3.7.7-final"
  },
  "orig_nbformat": 2,
  "kernelspec": {
   "name": "python_defaultSpec_1600366687960",
   "display_name": "Python 3.7.7 64-bit ('base': conda)"
  }
 },
 "nbformat": 4,
 "nbformat_minor": 2,
 "cells": [
  {
   "cell_type": "code",
   "execution_count": 3,
   "metadata": {},
   "outputs": [],
   "source": [
    "import pandas as pd \n",
    "import numpy as np\n",
    "import matplotlib.pyplot as plt\n",
    "import warnings\n",
    "\n",
    "warnings.filterwarnings(\"ignore\")\n",
    "warnings.warn(\"this will not show\")"
   ]
  },
  {
   "cell_type": "code",
   "execution_count": 5,
   "metadata": {},
   "outputs": [],
   "source": [
    "oto = pd.read_json(\"scout_car.json\", orient=\"records\", lines=True)"
   ]
  },
  {
   "cell_type": "code",
   "execution_count": 6,
   "metadata": {},
   "outputs": [
    {
     "output_type": "execute_result",
     "data": {
      "text/plain": "                                                 url make_model  \\\n0  https://www.autoscout24.com//offers/audi-a1-sp...    Audi A1   \n1  https://www.autoscout24.com//offers/audi-a1-1-...    Audi A1   \n2  https://www.autoscout24.com//offers/audi-a1-sp...    Audi A1   \n3  https://www.autoscout24.com//offers/audi-a1-1-...    Audi A1   \n4  https://www.autoscout24.com//offers/audi-a1-sp...    Audi A1   \n\n                                   short_description body_type  price  \\\n0        Sportback 1.4 TDI S-tronic Xenon Navi Klima    Sedans  15770   \n1                                     1.8 TFSI sport    Sedans  14500   \n2  Sportback 1.6 TDI S tronic Einparkhilfe plus+m...    Sedans  14640   \n3                            1.4 TDi Design S tronic    Sedans  14500   \n4  Sportback 1.4 TDI S-Tronic S-Line Ext. admired...    Sedans  16790   \n\n                vat         km registration         prev_owner  kW  ...  \\\n0    VAT deductible  56,013 km      01/2016  2 previous owners NaN  ...   \n1  Price negotiable  80,000 km      03/2017               None NaN  ...   \n2    VAT deductible  83,450 km      02/2016   1 previous owner NaN  ...   \n3              None  73,000 km      08/2016   1 previous owner NaN  ...   \n4              None  16,200 km      05/2016   1 previous owner NaN  ...   \n\n                                         description   Emission Label  \\\n0  [\\n, Sicherheit:,  , Deaktivierung für Beifahr...              NaN   \n1  [\\nLangstreckenfahrzeug daher die hohe Kilomet...  [\\n4 (Green)\\n]   \n2  [\\n, Fahrzeug-Nummer: AM-95365,  , Ehem. UPE 2...  [\\n4 (Green)\\n]   \n3  [\\nAudi A1: , - 1e eigenaar , - Perfecte staat...              NaN   \n4  [\\n, Technik & Sicherheit:, Xenon plus, Klimaa...              NaN   \n\n     Gears Country version Electricity consumption Last Service Date  \\\n0      NaN             NaN                     NaN               NaN   \n1  [\\n7\\n]             NaN                     NaN               NaN   \n2      NaN             NaN                     NaN               NaN   \n3  [\\n6\\n]             NaN                     NaN               NaN   \n4      NaN   [\\nGermany\\n]                     NaN               NaN   \n\n  Other Fuel Types Availability Last Timing Belt Service Date Available from  \n0              NaN          NaN                           NaN            NaN  \n1              NaN          NaN                           NaN            NaN  \n2              NaN          NaN                           NaN            NaN  \n3              NaN          NaN                           NaN            NaN  \n4              NaN          NaN                           NaN            NaN  \n\n[5 rows x 54 columns]",
      "text/html": "<div>\n<style scoped>\n    .dataframe tbody tr th:only-of-type {\n        vertical-align: middle;\n    }\n\n    .dataframe tbody tr th {\n        vertical-align: top;\n    }\n\n    .dataframe thead th {\n        text-align: right;\n    }\n</style>\n<table border=\"1\" class=\"dataframe\">\n  <thead>\n    <tr style=\"text-align: right;\">\n      <th></th>\n      <th>url</th>\n      <th>make_model</th>\n      <th>short_description</th>\n      <th>body_type</th>\n      <th>price</th>\n      <th>vat</th>\n      <th>km</th>\n      <th>registration</th>\n      <th>prev_owner</th>\n      <th>kW</th>\n      <th>...</th>\n      <th>description</th>\n      <th>Emission Label</th>\n      <th>Gears</th>\n      <th>Country version</th>\n      <th>Electricity consumption</th>\n      <th>Last Service Date</th>\n      <th>Other Fuel Types</th>\n      <th>Availability</th>\n      <th>Last Timing Belt Service Date</th>\n      <th>Available from</th>\n    </tr>\n  </thead>\n  <tbody>\n    <tr>\n      <th>0</th>\n      <td>https://www.autoscout24.com//offers/audi-a1-sp...</td>\n      <td>Audi A1</td>\n      <td>Sportback 1.4 TDI S-tronic Xenon Navi Klima</td>\n      <td>Sedans</td>\n      <td>15770</td>\n      <td>VAT deductible</td>\n      <td>56,013 km</td>\n      <td>01/2016</td>\n      <td>2 previous owners</td>\n      <td>NaN</td>\n      <td>...</td>\n      <td>[\\n, Sicherheit:,  , Deaktivierung für Beifahr...</td>\n      <td>NaN</td>\n      <td>NaN</td>\n      <td>NaN</td>\n      <td>NaN</td>\n      <td>NaN</td>\n      <td>NaN</td>\n      <td>NaN</td>\n      <td>NaN</td>\n      <td>NaN</td>\n    </tr>\n    <tr>\n      <th>1</th>\n      <td>https://www.autoscout24.com//offers/audi-a1-1-...</td>\n      <td>Audi A1</td>\n      <td>1.8 TFSI sport</td>\n      <td>Sedans</td>\n      <td>14500</td>\n      <td>Price negotiable</td>\n      <td>80,000 km</td>\n      <td>03/2017</td>\n      <td>None</td>\n      <td>NaN</td>\n      <td>...</td>\n      <td>[\\nLangstreckenfahrzeug daher die hohe Kilomet...</td>\n      <td>[\\n4 (Green)\\n]</td>\n      <td>[\\n7\\n]</td>\n      <td>NaN</td>\n      <td>NaN</td>\n      <td>NaN</td>\n      <td>NaN</td>\n      <td>NaN</td>\n      <td>NaN</td>\n      <td>NaN</td>\n    </tr>\n    <tr>\n      <th>2</th>\n      <td>https://www.autoscout24.com//offers/audi-a1-sp...</td>\n      <td>Audi A1</td>\n      <td>Sportback 1.6 TDI S tronic Einparkhilfe plus+m...</td>\n      <td>Sedans</td>\n      <td>14640</td>\n      <td>VAT deductible</td>\n      <td>83,450 km</td>\n      <td>02/2016</td>\n      <td>1 previous owner</td>\n      <td>NaN</td>\n      <td>...</td>\n      <td>[\\n, Fahrzeug-Nummer: AM-95365,  , Ehem. UPE 2...</td>\n      <td>[\\n4 (Green)\\n]</td>\n      <td>NaN</td>\n      <td>NaN</td>\n      <td>NaN</td>\n      <td>NaN</td>\n      <td>NaN</td>\n      <td>NaN</td>\n      <td>NaN</td>\n      <td>NaN</td>\n    </tr>\n    <tr>\n      <th>3</th>\n      <td>https://www.autoscout24.com//offers/audi-a1-1-...</td>\n      <td>Audi A1</td>\n      <td>1.4 TDi Design S tronic</td>\n      <td>Sedans</td>\n      <td>14500</td>\n      <td>None</td>\n      <td>73,000 km</td>\n      <td>08/2016</td>\n      <td>1 previous owner</td>\n      <td>NaN</td>\n      <td>...</td>\n      <td>[\\nAudi A1: , - 1e eigenaar , - Perfecte staat...</td>\n      <td>NaN</td>\n      <td>[\\n6\\n]</td>\n      <td>NaN</td>\n      <td>NaN</td>\n      <td>NaN</td>\n      <td>NaN</td>\n      <td>NaN</td>\n      <td>NaN</td>\n      <td>NaN</td>\n    </tr>\n    <tr>\n      <th>4</th>\n      <td>https://www.autoscout24.com//offers/audi-a1-sp...</td>\n      <td>Audi A1</td>\n      <td>Sportback 1.4 TDI S-Tronic S-Line Ext. admired...</td>\n      <td>Sedans</td>\n      <td>16790</td>\n      <td>None</td>\n      <td>16,200 km</td>\n      <td>05/2016</td>\n      <td>1 previous owner</td>\n      <td>NaN</td>\n      <td>...</td>\n      <td>[\\n, Technik &amp; Sicherheit:, Xenon plus, Klimaa...</td>\n      <td>NaN</td>\n      <td>NaN</td>\n      <td>[\\nGermany\\n]</td>\n      <td>NaN</td>\n      <td>NaN</td>\n      <td>NaN</td>\n      <td>NaN</td>\n      <td>NaN</td>\n      <td>NaN</td>\n    </tr>\n  </tbody>\n</table>\n<p>5 rows × 54 columns</p>\n</div>"
     },
     "metadata": {},
     "execution_count": 6
    }
   ],
   "source": [
    "oto.head()"
   ]
  },
  {
   "cell_type": "code",
   "execution_count": 11,
   "metadata": {
    "tags": []
   },
   "outputs": [
    {
     "output_type": "stream",
     "name": "stdout",
     "text": "<class 'pandas.core.frame.DataFrame'>\nRangeIndex: 15919 entries, 0 to 15918\nData columns (total 54 columns):\n #   Column                         Non-Null Count  Dtype  \n---  ------                         --------------  -----  \n 0   url                            15919 non-null  object \n 1   make_model                     15919 non-null  object \n 2   short_description              15873 non-null  object \n 3   body_type                      15859 non-null  object \n 4   price                          15919 non-null  int64  \n 5   vat                            11406 non-null  object \n 6   km                             15919 non-null  object \n 7   registration                   15919 non-null  object \n 8   prev_owner                     9091 non-null   object \n 9   kW                             0 non-null      float64\n 10  hp                             15919 non-null  object \n 11  Type                           15917 non-null  object \n 12  Previous Owners                9279 non-null   object \n 13  Next Inspection                3535 non-null   object \n 14  Inspection new                 3932 non-null   object \n 15  Warranty                       10499 non-null  object \n 16  Full Service                   8215 non-null   object \n 17  Non-smoking Vehicle            7177 non-null   object \n 18  null                           15919 non-null  object \n 19  Make                           15919 non-null  object \n 20  Model                          15919 non-null  object \n 21  Offer Number                   12744 non-null  object \n 22  First Registration             14322 non-null  object \n 23  Body Color                     15322 non-null  object \n 24  Paint Type                     10147 non-null  object \n 25  Body Color Original            12160 non-null  object \n 26  Upholstery                     12199 non-null  object \n 27  Body                           15859 non-null  object \n 28  Nr. of Doors                   15707 non-null  object \n 29  Nr. of Seats                   14942 non-null  object \n 30  Model Code                     4978 non-null   object \n 31  Gearing Type                   15919 non-null  object \n 32  Displacement                   15423 non-null  object \n 33  Cylinders                      10239 non-null  object \n 34  Weight                         8945 non-null   object \n 35  Drive chain                    9061 non-null   object \n 36  Fuel                           15919 non-null  object \n 37  Consumption                    14013 non-null  object \n 38  CO2 Emission                   14111 non-null  object \n 39  Emission Class                 12898 non-null  object \n 40  \nComfort & Convenience\n        14999 non-null  object \n 41  \nEntertainment & Media\n        14545 non-null  object \n 42  \nExtras\n                       12957 non-null  object \n 43  \nSafety & Security\n            14937 non-null  object \n 44  description                    15919 non-null  object \n 45  Emission Label                 3985 non-null   object \n 46  Gears                          11207 non-null  object \n 47  Country version                7586 non-null   object \n 48  Electricity consumption        137 non-null    object \n 49  Last Service Date              566 non-null    object \n 50  Other Fuel Types               880 non-null    object \n 51  Availability                   635 non-null    object \n 52  Last Timing Belt Service Date  16 non-null     object \n 53  Available from                 272 non-null    object \ndtypes: float64(1), int64(1), object(52)\nmemory usage: 6.6+ MB\n"
    }
   ],
   "source": [
    "oto.info()"
   ]
  },
  {
   "cell_type": "code",
   "execution_count": 12,
   "metadata": {},
   "outputs": [
    {
     "output_type": "execute_result",
     "data": {
      "text/plain": "              price   kW\ncount  15919.000000  0.0\nmean   18019.896727  NaN\nstd     7386.169409  NaN\nmin       13.000000  NaN\n25%    12850.000000  NaN\n50%    16900.000000  NaN\n75%    21900.000000  NaN\nmax    74600.000000  NaN",
      "text/html": "<div>\n<style scoped>\n    .dataframe tbody tr th:only-of-type {\n        vertical-align: middle;\n    }\n\n    .dataframe tbody tr th {\n        vertical-align: top;\n    }\n\n    .dataframe thead th {\n        text-align: right;\n    }\n</style>\n<table border=\"1\" class=\"dataframe\">\n  <thead>\n    <tr style=\"text-align: right;\">\n      <th></th>\n      <th>price</th>\n      <th>kW</th>\n    </tr>\n  </thead>\n  <tbody>\n    <tr>\n      <th>count</th>\n      <td>15919.000000</td>\n      <td>0.0</td>\n    </tr>\n    <tr>\n      <th>mean</th>\n      <td>18019.896727</td>\n      <td>NaN</td>\n    </tr>\n    <tr>\n      <th>std</th>\n      <td>7386.169409</td>\n      <td>NaN</td>\n    </tr>\n    <tr>\n      <th>min</th>\n      <td>13.000000</td>\n      <td>NaN</td>\n    </tr>\n    <tr>\n      <th>25%</th>\n      <td>12850.000000</td>\n      <td>NaN</td>\n    </tr>\n    <tr>\n      <th>50%</th>\n      <td>16900.000000</td>\n      <td>NaN</td>\n    </tr>\n    <tr>\n      <th>75%</th>\n      <td>21900.000000</td>\n      <td>NaN</td>\n    </tr>\n    <tr>\n      <th>max</th>\n      <td>74600.000000</td>\n      <td>NaN</td>\n    </tr>\n  </tbody>\n</table>\n</div>"
     },
     "metadata": {},
     "execution_count": 12
    }
   ],
   "source": [
    "oto.describe() #outlier var min=13 euro"
   ]
  },
  {
   "cell_type": "code",
   "execution_count": 15,
   "metadata": {},
   "outputs": [
    {
     "output_type": "execute_result",
     "data": {
      "text/plain": "url                                0.000000\nmake_model                         0.000000\nshort_description                  0.288963\nbody_type                          0.376908\nprice                              0.000000\nvat                               28.349771\nkm                                 0.000000\nregistration                       0.000000\nprev_owner                        42.892141\nkW                               100.000000\nhp                                 0.000000\nType                               0.012564\nPrevious Owners                   41.711163\nNext Inspection                   77.793831\nInspection new                    75.299956\nWarranty                          34.047365\nFull Service                      48.395000\nNon-smoking Vehicle               54.915510\nnull                               0.000000\nMake                               0.000000\nModel                              0.000000\nOffer Number                      19.944720\nFirst Registration                10.032037\nBody Color                         3.750236\nPaint Type                        36.258559\nBody Color Original               23.613292\nUpholstery                        23.368302\nBody                               0.376908\nNr. of Doors                       1.331742\nNr. of Seats                       6.137320\nModel Code                        68.729192\nGearing Type                       0.000000\nDisplacement                       3.115774\nCylinders                         35.680633\nWeight                            43.809285\nDrive chain                       43.080596\nFuel                               0.000000\nConsumption                       11.973114\nCO2 Emission                      11.357497\nEmission Class                    18.977323\n\\nComfort & Convenience\\n          5.779257\n\\nEntertainment & Media\\n          8.631195\n\\nExtras\\n                        18.606696\n\\nSafety & Security\\n              6.168729\ndescription                        0.000000\nEmission Label                    74.967021\nGears                             29.599849\nCountry version                   52.346253\nElectricity consumption           99.139393\nLast Service Date                 96.444500\nOther Fuel Types                  94.472015\nAvailability                      96.011056\nLast Timing Belt Service Date     99.899491\nAvailable from                    98.291350\ndtype: float64"
     },
     "metadata": {},
     "execution_count": 15
    }
   ],
   "source": [
    "oto.isnull().sum()*100/oto.shape[0]"
   ]
  },
  {
   "cell_type": "code",
   "execution_count": 20,
   "metadata": {},
   "outputs": [],
   "source": [
    "col_list =list(oto.columns)"
   ]
  },
  {
   "cell_type": "code",
   "execution_count": 21,
   "metadata": {},
   "outputs": [
    {
     "output_type": "execute_result",
     "data": {
      "text/plain": "['url',\n 'make_model',\n 'short_description',\n 'body_type',\n 'price',\n 'vat',\n 'km',\n 'registration',\n 'prev_owner',\n 'kW',\n 'hp',\n 'Type',\n 'Previous Owners',\n 'Next Inspection',\n 'Inspection new',\n 'Warranty',\n 'Full Service',\n 'Non-smoking Vehicle',\n 'null',\n 'Make',\n 'Model',\n 'Offer Number',\n 'First Registration',\n 'Body Color',\n 'Paint Type',\n 'Body Color Original',\n 'Upholstery',\n 'Body',\n 'Nr. of Doors',\n 'Nr. of Seats',\n 'Model Code',\n 'Gearing Type',\n 'Displacement',\n 'Cylinders',\n 'Weight',\n 'Drive chain',\n 'Fuel',\n 'Consumption',\n 'CO2 Emission',\n 'Emission Class',\n '\\nComfort & Convenience\\n',\n '\\nEntertainment & Media\\n',\n '\\nExtras\\n',\n '\\nSafety & Security\\n',\n 'description',\n 'Emission Label',\n 'Gears',\n 'Country version',\n 'Electricity consumption',\n 'Last Service Date',\n 'Other Fuel Types',\n 'Availability',\n 'Last Timing Belt Service Date',\n 'Available from']"
     },
     "metadata": {},
     "execution_count": 21
    }
   ],
   "source": [
    "col_list"
   ]
  },
  {
   "cell_type": "code",
   "execution_count": 22,
   "metadata": {},
   "outputs": [
    {
     "output_type": "execute_result",
     "data": {
      "text/plain": "0        [\\nfront\\n]\n1        [\\nfront\\n]\n2        [\\nfront\\n]\n3                NaN\n4        [\\nfront\\n]\n            ...     \n15914    [\\nfront\\n]\n15915    [\\nfront\\n]\n15916    [\\nfront\\n]\n15917    [\\nfront\\n]\n15918      [\\n4WD\\n]\nName: Drive chain, Length: 15919, dtype: object"
     },
     "metadata": {},
     "execution_count": 22
    }
   ],
   "source": [
    "oto['Drive chain']"
   ]
  },
  {
   "source": [
    "%35 den fazla missing olanları incele"
   ],
   "cell_type": "markdown",
   "metadata": {}
  },
  {
   "source": [
    "pip install pandas-profiling\n",
    "import pandas_profiling\n",
    "pandas_profiling.ProfileReport(oto)"
   ],
   "cell_type": "markdown",
   "metadata": {}
  },
  {
   "cell_type": "code",
   "execution_count": 26,
   "metadata": {},
   "outputs": [
    {
     "output_type": "execute_result",
     "data": {
      "text/plain": "prev_owner                        42.892141\nkW                               100.000000\nPrevious Owners                   41.711163\nNext Inspection                   77.793831\nInspection new                    75.299956\nFull Service                      48.395000\nNon-smoking Vehicle               54.915510\nPaint Type                        36.258559\nModel Code                        68.729192\nCylinders                         35.680633\nWeight                            43.809285\nDrive chain                       43.080596\nEmission Label                    74.967021\nCountry version                   52.346253\nElectricity consumption           99.139393\nLast Service Date                 96.444500\nOther Fuel Types                  94.472015\nAvailability                      96.011056\nLast Timing Belt Service Date     99.899491\nAvailable from                    98.291350\ndtype: float64"
     },
     "metadata": {},
     "execution_count": 26
    }
   ],
   "source": [
    "def show_nans(oto, limit):\n",
    "    missing = oto.isnull().sum()*100/oto.shape[0]\n",
    "    return missing.loc[lambda x : x > limit]\n",
    "show_nans(oto,35)"
   ]
  },
  {
   "source": [
    "# prev_owner and previous owner"
   ],
   "cell_type": "markdown",
   "metadata": {}
  },
  {
   "source": [
    "weight non-smoking vehicle\n"
   ],
   "cell_type": "markdown",
   "metadata": {}
  },
  {
   "source": [
    "body_type is similar to body_"
   ],
   "cell_type": "markdown",
   "metadata": {}
  },
  {
   "cell_type": "code",
   "execution_count": null,
   "metadata": {},
   "outputs": [],
   "source": [
    "def fill_most(oto,group_col,col_name):\n"
   ]
  },
  {
   "cell_type": "code",
   "execution_count": 28,
   "metadata": {},
   "outputs": [
    {
     "output_type": "execute_result",
     "data": {
      "text/plain": "array(['Audi A1', 'Audi A2', 'Audi A3', 'Opel Astra', 'Opel Corsa',\n       'Opel Insignia', 'Renault Clio', 'Renault Duster',\n       'Renault Espace'], dtype=object)"
     },
     "metadata": {},
     "execution_count": 28
    }
   ],
   "source": [
    "oto[\"make_model\"].unique()"
   ]
  },
  {
   "cell_type": "code",
   "execution_count": null,
   "metadata": {},
   "outputs": [],
   "source": [
    "for group in list(oto[\"group_col\"].unique()):\n"
   ]
  },
  {
   "cell_type": "code",
   "execution_count": 31,
   "metadata": {},
   "outputs": [],
   "source": [
    "grp_inx= list(oto[oto[group_col]==\"group\"][\"Body\"].index)"
   ]
  },
  {
   "cell_type": "code",
   "execution_count": null,
   "metadata": {},
   "outputs": [],
   "source": [
    "oto[col_name].iloc[grp.inx]=oto[col_name].iloc[grp_inx].fillna()"
   ]
  },
  {
   "cell_type": "code",
   "execution_count": 32,
   "metadata": {},
   "outputs": [
    {
     "output_type": "execute_result",
     "data": {
      "text/plain": "'Sedans'"
     },
     "metadata": {},
     "execution_count": 32
    }
   ],
   "source": [
    "oto[oto[\"make_model\"]==\"Audi A3\"][\"body_type\"].mode()[0]#body type ın nan larını sedanla doldur"
   ]
  },
  {
   "cell_type": "code",
   "execution_count": 33,
   "metadata": {},
   "outputs": [
    {
     "output_type": "execute_result",
     "data": {
      "text/plain": "'Sedans'"
     },
     "metadata": {},
     "execution_count": 33
    }
   ],
   "source": [
    "oto[oto[\"make_model\"]==\"Audi A1\"][\"body_type\"].mode()[0]#body type ın nan larını sedanla doldur"
   ]
  },
  {
   "cell_type": "code",
   "execution_count": 34,
   "metadata": {},
   "outputs": [
    {
     "output_type": "execute_result",
     "data": {
      "text/plain": "'Van'"
     },
     "metadata": {},
     "execution_count": 34
    }
   ],
   "source": [
    "oto[oto[\"make_model\"]==\"Renault Espace\"][\"body_type\"].mode()[0]#body type ın nan larını sedanla doldur"
   ]
  },
  {
   "cell_type": "code",
   "execution_count": null,
   "metadata": {},
   "outputs": [],
   "source": []
  }
 ]
}