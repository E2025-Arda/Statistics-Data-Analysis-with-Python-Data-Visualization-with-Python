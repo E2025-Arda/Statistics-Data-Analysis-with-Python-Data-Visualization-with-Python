{
 "cells": [
  {
   "cell_type": "markdown",
   "metadata": {},
   "source": [
    "___\n",
    "\n",
    "<p style=\"text-align: center;\"><img src=\"https://docs.google.com/uc?id=1lY0Uj5R04yMY3-ZppPWxqCr5pvBLYPnV\" class=\"img-fluid\" alt=\"CLRSWY\"></p>\n",
    "\n",
    "___"
   ]
  },
  {
   "cell_type": "markdown",
   "metadata": {},
   "source": [
    "<h1><p style=\"text-align: center;\">Data Analysis with Python <br>Project - 1</p><h1> - Traffic Police Stops <img src=\"https://docs.google.com/uc?id=17CPCwi3_VvzcS87TOsh4_U8eExOhL6Ki\" class=\"img-fluid\" alt=\"CLRSWY\" width=\"200\" height=\"100\"> "
   ]
  },
  {
   "cell_type": "markdown",
   "metadata": {},
   "source": [
    "Before beginning your analysis, it is critical that you first examine and clean the dataset, to make working with it a more efficient process. You will practice fixing data types, handling missing values, and dropping columns and rows while learning about the Stanford Open Policing Project dataset."
   ]
  },
  {
   "cell_type": "markdown",
   "metadata": {},
   "source": [
    "***"
   ]
  },
  {
   "cell_type": "markdown",
   "metadata": {},
   "source": [
    "## Examining the dataset"
   ]
  },
  {
   "cell_type": "markdown",
   "metadata": {},
   "source": [
    "You'll be analyzing a dataset of traffic stops in Rhode Island that was collected by the Stanford Open Policing Project."
   ]
  },
  {
   "cell_type": "markdown",
   "metadata": {},
   "source": [
    "Before beginning your analysis, it's important that you familiarize yourself with the dataset. You'll read the dataset into pandas, examine the first few rows, and then count the number of missing values."
   ]
  },
  {
   "cell_type": "markdown",
   "metadata": {},
   "source": [
    "**INSTRUCTIONS**\n",
    "\n",
    "*   Import pandas using the alias ``pd``.\n",
    "*   Read the file police.csv into a DataFrame named ``ri``\n",
    "*   Examine the first 5 rows of the ``DataFrame`` (known as the ``\"head\"``).\n",
    "*   Count the number of missing values in each column: Use ``.isnull()`` to check which ``DataFrame`` elements are missing, and then take the ``.sum()`` to count the number of ``True`` values in each column."
   ]
  },
  {
   "cell_type": "code",
   "execution_count": 190,
   "metadata": {},
   "outputs": [],
   "source": [
    "import pandas as pd\n",
    "ri = pd.read_csv('police.csv',nrows=50000) "
   ]
  },
  {
   "cell_type": "code",
   "execution_count": 191,
   "metadata": {},
   "outputs": [
    {
     "output_type": "execute_result",
     "data": {
      "text/plain": "              id state   stop_date stop_time location_raw  county_name  \\\n0  RI-2005-00001    RI  2005-01-02     01:55      Zone K1          NaN   \n1  RI-2005-00002    RI  2005-01-02     20:30      Zone X4          NaN   \n2  RI-2005-00003    RI  2005-01-04     11:30      Zone X1          NaN   \n3  RI-2005-00004    RI  2005-01-04     12:55      Zone X4          NaN   \n4  RI-2005-00005    RI  2005-01-06     01:30      Zone X4          NaN   \n\n   county_fips  fine_grained_location police_department driver_gender  ...  \\\n0          NaN                    NaN               600             M  ...   \n1          NaN                    NaN               500             M  ...   \n2          NaN                    NaN                 0           NaN  ...   \n3          NaN                    NaN               500             M  ...   \n4          NaN                    NaN               500             M  ...   \n\n   search_conducted  search_type_raw search_type contraband_found  \\\n0             False              NaN         NaN            False   \n1             False              NaN         NaN            False   \n2             False              NaN         NaN            False   \n3             False              NaN         NaN            False   \n4             False              NaN         NaN            False   \n\n  stop_outcome is_arrested  stop_duration out_of_state drugs_related_stop  \\\n0     Citation       False       0-15 Min        False              False   \n1     Citation       False      16-30 Min        False              False   \n2          NaN         NaN            NaN          NaN              False   \n3     Citation       False       0-15 Min        False              False   \n4     Citation       False       0-15 Min        False              False   \n\n   district  \n0   Zone K1  \n1   Zone X4  \n2   Zone X1  \n3   Zone X4  \n4   Zone X4  \n\n[5 rows x 26 columns]",
      "text/html": "<div>\n<style scoped>\n    .dataframe tbody tr th:only-of-type {\n        vertical-align: middle;\n    }\n\n    .dataframe tbody tr th {\n        vertical-align: top;\n    }\n\n    .dataframe thead th {\n        text-align: right;\n    }\n</style>\n<table border=\"1\" class=\"dataframe\">\n  <thead>\n    <tr style=\"text-align: right;\">\n      <th></th>\n      <th>id</th>\n      <th>state</th>\n      <th>stop_date</th>\n      <th>stop_time</th>\n      <th>location_raw</th>\n      <th>county_name</th>\n      <th>county_fips</th>\n      <th>fine_grained_location</th>\n      <th>police_department</th>\n      <th>driver_gender</th>\n      <th>...</th>\n      <th>search_conducted</th>\n      <th>search_type_raw</th>\n      <th>search_type</th>\n      <th>contraband_found</th>\n      <th>stop_outcome</th>\n      <th>is_arrested</th>\n      <th>stop_duration</th>\n      <th>out_of_state</th>\n      <th>drugs_related_stop</th>\n      <th>district</th>\n    </tr>\n  </thead>\n  <tbody>\n    <tr>\n      <th>0</th>\n      <td>RI-2005-00001</td>\n      <td>RI</td>\n      <td>2005-01-02</td>\n      <td>01:55</td>\n      <td>Zone K1</td>\n      <td>NaN</td>\n      <td>NaN</td>\n      <td>NaN</td>\n      <td>600</td>\n      <td>M</td>\n      <td>...</td>\n      <td>False</td>\n      <td>NaN</td>\n      <td>NaN</td>\n      <td>False</td>\n      <td>Citation</td>\n      <td>False</td>\n      <td>0-15 Min</td>\n      <td>False</td>\n      <td>False</td>\n      <td>Zone K1</td>\n    </tr>\n    <tr>\n      <th>1</th>\n      <td>RI-2005-00002</td>\n      <td>RI</td>\n      <td>2005-01-02</td>\n      <td>20:30</td>\n      <td>Zone X4</td>\n      <td>NaN</td>\n      <td>NaN</td>\n      <td>NaN</td>\n      <td>500</td>\n      <td>M</td>\n      <td>...</td>\n      <td>False</td>\n      <td>NaN</td>\n      <td>NaN</td>\n      <td>False</td>\n      <td>Citation</td>\n      <td>False</td>\n      <td>16-30 Min</td>\n      <td>False</td>\n      <td>False</td>\n      <td>Zone X4</td>\n    </tr>\n    <tr>\n      <th>2</th>\n      <td>RI-2005-00003</td>\n      <td>RI</td>\n      <td>2005-01-04</td>\n      <td>11:30</td>\n      <td>Zone X1</td>\n      <td>NaN</td>\n      <td>NaN</td>\n      <td>NaN</td>\n      <td>0</td>\n      <td>NaN</td>\n      <td>...</td>\n      <td>False</td>\n      <td>NaN</td>\n      <td>NaN</td>\n      <td>False</td>\n      <td>NaN</td>\n      <td>NaN</td>\n      <td>NaN</td>\n      <td>NaN</td>\n      <td>False</td>\n      <td>Zone X1</td>\n    </tr>\n    <tr>\n      <th>3</th>\n      <td>RI-2005-00004</td>\n      <td>RI</td>\n      <td>2005-01-04</td>\n      <td>12:55</td>\n      <td>Zone X4</td>\n      <td>NaN</td>\n      <td>NaN</td>\n      <td>NaN</td>\n      <td>500</td>\n      <td>M</td>\n      <td>...</td>\n      <td>False</td>\n      <td>NaN</td>\n      <td>NaN</td>\n      <td>False</td>\n      <td>Citation</td>\n      <td>False</td>\n      <td>0-15 Min</td>\n      <td>False</td>\n      <td>False</td>\n      <td>Zone X4</td>\n    </tr>\n    <tr>\n      <th>4</th>\n      <td>RI-2005-00005</td>\n      <td>RI</td>\n      <td>2005-01-06</td>\n      <td>01:30</td>\n      <td>Zone X4</td>\n      <td>NaN</td>\n      <td>NaN</td>\n      <td>NaN</td>\n      <td>500</td>\n      <td>M</td>\n      <td>...</td>\n      <td>False</td>\n      <td>NaN</td>\n      <td>NaN</td>\n      <td>False</td>\n      <td>Citation</td>\n      <td>False</td>\n      <td>0-15 Min</td>\n      <td>False</td>\n      <td>False</td>\n      <td>Zone X4</td>\n    </tr>\n  </tbody>\n</table>\n<p>5 rows × 26 columns</p>\n</div>"
     },
     "metadata": {},
     "execution_count": 191
    }
   ],
   "source": [
    "ri.head()\n"
   ]
  },
  {
   "cell_type": "code",
   "execution_count": 192,
   "metadata": {
    "tags": []
   },
   "outputs": [
    {
     "output_type": "stream",
     "name": "stdout",
     "text": "id                           0\nstate                        0\nstop_date                    0\nstop_time                    0\nlocation_raw                 0\ncounty_name              50000\ncounty_fips              50000\nfine_grained_location    50000\npolice_department            0\ndriver_gender             1990\ndriver_age_raw            1971\ndriver_age                2208\ndriver_race_raw           1988\ndriver_race               1988\nviolation_raw             1988\nviolation                 1988\nsearch_conducted             0\nsearch_type_raw          47988\nsearch_type              47988\ncontraband_found             0\nstop_outcome              1988\nis_arrested               1988\nstop_duration             1988\nout_of_state              2203\ndrugs_related_stop           0\ndistrict                     0\ndtype: int64\n"
    }
   ],
   "source": [
    "print(ri.isnull().sum(axis=0))"
   ]
  },
  {
   "cell_type": "markdown",
   "metadata": {},
   "source": [
    "***"
   ]
  },
  {
   "cell_type": "markdown",
   "metadata": {},
   "source": [
    "## Dropping columns"
   ]
  },
  {
   "cell_type": "markdown",
   "metadata": {},
   "source": [
    "Often, a DataFrame will contain columns that are not useful to your analysis. Such columns should be dropped from the ``DataFrame``, to make it easier for you to focus on the remaining columns.\n",
    "\n",
    "You'll drop the ``county_name`` column because it only contains missing values, and you'll drop the ``state`` column because all of the traffic stops took place in one state (Rhode Island). Thus, these columns can be dropped because they contain no useful information."
   ]
  },
  {
   "cell_type": "markdown",
   "metadata": {},
   "source": [
    "**INSTRUCTIONS**\n",
    "\n",
    "*   Examine the ``DataFrame``'s shape to find out the number of rows and columns.\n",
    "\n",
    "*   Drop the columns that almost consist of missing values. \n",
    "\n",
    "*   Examine the ``.shape`` again to verify that there are now two fewer columns."
   ]
  },
  {
   "cell_type": "code",
   "execution_count": 193,
   "metadata": {},
   "outputs": [],
   "source": [
    "ri.drop([\"county_name\", \"state\",\"county_fips\",\"fine_grained_location\",\"search_type_raw\",\"location_raw\"], inplace = True , axis = 1)"
   ]
  },
  {
   "cell_type": "code",
   "execution_count": 194,
   "metadata": {
    "tags": []
   },
   "outputs": [
    {
     "output_type": "stream",
     "name": "stdout",
     "text": "<class 'pandas.core.frame.DataFrame'>\nRangeIndex: 50000 entries, 0 to 49999\nData columns (total 20 columns):\n #   Column              Non-Null Count  Dtype  \n---  ------              --------------  -----  \n 0   id                  50000 non-null  object \n 1   stop_date           50000 non-null  object \n 2   stop_time           50000 non-null  object \n 3   police_department   50000 non-null  object \n 4   driver_gender       48010 non-null  object \n 5   driver_age_raw      48029 non-null  float64\n 6   driver_age          47792 non-null  float64\n 7   driver_race_raw     48012 non-null  object \n 8   driver_race         48012 non-null  object \n 9   violation_raw       48012 non-null  object \n 10  violation           48012 non-null  object \n 11  search_conducted    50000 non-null  bool   \n 12  search_type         2012 non-null   object \n 13  contraband_found    50000 non-null  bool   \n 14  stop_outcome        48012 non-null  object \n 15  is_arrested         48012 non-null  object \n 16  stop_duration       48012 non-null  object \n 17  out_of_state        47797 non-null  object \n 18  drugs_related_stop  50000 non-null  bool   \n 19  district            50000 non-null  object \ndtypes: bool(3), float64(2), object(15)\nmemory usage: 6.6+ MB\n"
    }
   ],
   "source": [
    "ri.info()"
   ]
  },
  {
   "cell_type": "code",
   "execution_count": 195,
   "metadata": {},
   "outputs": [
    {
     "output_type": "execute_result",
     "data": {
      "text/plain": "(50000, 20)"
     },
     "metadata": {},
     "execution_count": 195
    }
   ],
   "source": [
    "ri.shape"
   ]
  },
  {
   "cell_type": "markdown",
   "metadata": {},
   "source": [
    "***"
   ]
  },
  {
   "cell_type": "markdown",
   "metadata": {},
   "source": [
    "## Dropping rows"
   ]
  },
  {
   "cell_type": "markdown",
   "metadata": {},
   "source": [
    "When you know that a specific column will be critical to your analysis, and only a small fraction of rows are missing a value in that column, it often makes sense to remove those rows from the dataset.\n",
    "\n",
    "During this course, the ``driver_gender`` column will be critical to many of your analyses. Because only a small fraction of rows are missing ``driver_gender``, we'll drop those rows from the dataset."
   ]
  },
  {
   "cell_type": "markdown",
   "metadata": {},
   "source": [
    "**INSTRUCTIONS**\n",
    "\n",
    "*   Count the number of missing values in each column.\n",
    "\n",
    "*   Drop all rows that are missing ``driver_gender`` by passing the column name to the subset parameter of ``.dropna()``.\n",
    "*   Count the number of missing values in each column again, to verify that none of the remaining rows are missing ``driver_gender``.\n",
    "*   Examine the ``DataFrame``'s ``.shape`` to see how many rows and columns remain."
   ]
  },
  {
   "cell_type": "code",
   "execution_count": 196,
   "metadata": {
    "tags": []
   },
   "outputs": [
    {
     "output_type": "stream",
     "name": "stdout",
     "text": "id                        0\nstop_date                 0\nstop_time                 0\npolice_department         0\ndriver_gender          1990\ndriver_age_raw         1971\ndriver_age             2208\ndriver_race_raw        1988\ndriver_race            1988\nviolation_raw          1988\nviolation              1988\nsearch_conducted          0\nsearch_type           47988\ncontraband_found          0\nstop_outcome           1988\nis_arrested            1988\nstop_duration          1988\nout_of_state           2203\ndrugs_related_stop        0\ndistrict                  0\ndtype: int64\n"
    }
   ],
   "source": [
    "print(ri.isnull().sum(axis=0))"
   ]
  },
  {
   "cell_type": "code",
   "execution_count": 197,
   "metadata": {},
   "outputs": [],
   "source": [
    "ri.dropna(inplace=True, subset=[\"driver_gender\"], axis=0)"
   ]
  },
  {
   "cell_type": "code",
   "execution_count": 198,
   "metadata": {
    "tags": []
   },
   "outputs": [
    {
     "output_type": "stream",
     "name": "stdout",
     "text": "id                        0\nstop_date                 0\nstop_time                 0\npolice_department         0\ndriver_gender             0\ndriver_age_raw            0\ndriver_age              232\ndriver_race_raw           0\ndriver_race               0\nviolation_raw             0\nviolation                 0\nsearch_conducted          0\nsearch_type           45998\ncontraband_found          0\nstop_outcome              0\nis_arrested               0\nstop_duration             0\nout_of_state            215\ndrugs_related_stop        0\ndistrict                  0\ndtype: int64\n"
    }
   ],
   "source": [
    "print(ri.isnull().sum(axis=0))"
   ]
  },
  {
   "cell_type": "code",
   "execution_count": 199,
   "metadata": {
    "tags": []
   },
   "outputs": [
    {
     "output_type": "stream",
     "name": "stdout",
     "text": "<class 'pandas.core.frame.DataFrame'>\nInt64Index: 48010 entries, 0 to 49999\nData columns (total 20 columns):\n #   Column              Non-Null Count  Dtype  \n---  ------              --------------  -----  \n 0   id                  48010 non-null  object \n 1   stop_date           48010 non-null  object \n 2   stop_time           48010 non-null  object \n 3   police_department   48010 non-null  object \n 4   driver_gender       48010 non-null  object \n 5   driver_age_raw      48010 non-null  float64\n 6   driver_age          47778 non-null  float64\n 7   driver_race_raw     48010 non-null  object \n 8   driver_race         48010 non-null  object \n 9   violation_raw       48010 non-null  object \n 10  violation           48010 non-null  object \n 11  search_conducted    48010 non-null  bool   \n 12  search_type         2012 non-null   object \n 13  contraband_found    48010 non-null  bool   \n 14  stop_outcome        48010 non-null  object \n 15  is_arrested         48010 non-null  object \n 16  stop_duration       48010 non-null  object \n 17  out_of_state        47795 non-null  object \n 18  drugs_related_stop  48010 non-null  bool   \n 19  district            48010 non-null  object \ndtypes: bool(3), float64(2), object(15)\nmemory usage: 6.7+ MB\n"
    }
   ],
   "source": [
    "ri.info()"
   ]
  },
  {
   "cell_type": "code",
   "execution_count": 200,
   "metadata": {},
   "outputs": [
    {
     "output_type": "execute_result",
     "data": {
      "text/plain": "(48010, 20)"
     },
     "metadata": {},
     "execution_count": 200
    }
   ],
   "source": [
    "ri.shape"
   ]
  },
  {
   "cell_type": "markdown",
   "metadata": {},
   "source": [
    "***"
   ]
  },
  {
   "cell_type": "markdown",
   "metadata": {},
   "source": [
    "## Fixing a data type"
   ]
  },
  {
   "cell_type": "markdown",
   "metadata": {},
   "source": [
    "We know that the ``is_arrested`` column currently has the ``object`` data type. In this exercise, we'll change the data type to ``bool``, which is the most suitable type for a column containing ``True`` and ``False`` values.\n",
    "\n",
    "Fixing the data type will enable us to use mathematical operations on the ``is_arrested`` column that would not be possible otherwise."
   ]
  },
  {
   "cell_type": "markdown",
   "metadata": {},
   "source": [
    "**INSTRUCTIONS**\n",
    "\n",
    "*   Examine the head of the ``is_arrested`` column to verify that it contains ``True`` and ``False`` values.\n",
    "*   Check the current data type of ``is_arrested``.\n",
    "*   Use the ``.astype()`` method to convert ``is_arrested`` to a ``bool`` column.\n",
    "*   Check the new data type of ``is_arrested``, to confirm that it is now a ``bool`` column."
   ]
  },
  {
   "cell_type": "code",
   "execution_count": 201,
   "metadata": {},
   "outputs": [
    {
     "output_type": "execute_result",
     "data": {
      "text/plain": "  is_arrested\n0       False\n1       False\n3       False\n4       False\n5       False",
      "text/html": "<div>\n<style scoped>\n    .dataframe tbody tr th:only-of-type {\n        vertical-align: middle;\n    }\n\n    .dataframe tbody tr th {\n        vertical-align: top;\n    }\n\n    .dataframe thead th {\n        text-align: right;\n    }\n</style>\n<table border=\"1\" class=\"dataframe\">\n  <thead>\n    <tr style=\"text-align: right;\">\n      <th></th>\n      <th>is_arrested</th>\n    </tr>\n  </thead>\n  <tbody>\n    <tr>\n      <th>0</th>\n      <td>False</td>\n    </tr>\n    <tr>\n      <th>1</th>\n      <td>False</td>\n    </tr>\n    <tr>\n      <th>3</th>\n      <td>False</td>\n    </tr>\n    <tr>\n      <th>4</th>\n      <td>False</td>\n    </tr>\n    <tr>\n      <th>5</th>\n      <td>False</td>\n    </tr>\n  </tbody>\n</table>\n</div>"
     },
     "metadata": {},
     "execution_count": 201
    }
   ],
   "source": [
    "ri[[\"is_arrested\"]].head()"
   ]
  },
  {
   "cell_type": "code",
   "execution_count": 202,
   "metadata": {
    "tags": []
   },
   "outputs": [
    {
     "output_type": "stream",
     "name": "stdout",
     "text": "<class 'pandas.core.frame.DataFrame'>\nInt64Index: 48010 entries, 0 to 49999\nData columns (total 1 columns):\n #   Column       Non-Null Count  Dtype \n---  ------       --------------  ----- \n 0   is_arrested  48010 non-null  object\ndtypes: object(1)\nmemory usage: 750.2+ KB\n"
    }
   ],
   "source": [
    "ri[[\"is_arrested\"]].info()"
   ]
  },
  {
   "cell_type": "code",
   "execution_count": 203,
   "metadata": {},
   "outputs": [],
   "source": [
    "ri.is_arrested=ri.is_arrested.astype(\"bool\")"
   ]
  },
  {
   "cell_type": "code",
   "execution_count": 204,
   "metadata": {
    "tags": []
   },
   "outputs": [
    {
     "output_type": "execute_result",
     "data": {
      "text/plain": "numpy.bool_"
     },
     "metadata": {},
     "execution_count": 204
    }
   ],
   "source": [
    " type(ri.is_arrested[0]) \n"
   ]
  },
  {
   "cell_type": "markdown",
   "metadata": {},
   "source": [
    "***"
   ]
  },
  {
   "cell_type": "markdown",
   "metadata": {},
   "source": [
    "## Combining object columns"
   ]
  },
  {
   "cell_type": "markdown",
   "metadata": {},
   "source": [
    "Currently, the date and time of each traffic stop are stored in separate object columns: ``stop_date`` and ``stop_time``.\n",
    "\n",
    "You'll combine these two columns into a single column, and then convert it to ``datetime`` format. This will enable convenient date-based attributes that we'll use later in the course."
   ]
  },
  {
   "cell_type": "markdown",
   "metadata": {},
   "source": [
    "**INSTRUCTIONS**\n",
    "\n",
    "*    Use a string method to concatenate ``stop_date`` and ``stop_time`` (separated by a space), and store the result in ``combined``.\n",
    "*    Convert ``combined`` to ``datetime`` format, and store the result in a new column named ``stop_datetime``.\n",
    "*    Examine the ``DataFrame`` ``.dtypes`` to confirm that ``stop_datetime`` is a datetime column."
   ]
  },
  {
   "cell_type": "code",
   "execution_count": 205,
   "metadata": {},
   "outputs": [],
   "source": [
    "combined=pd.concat([ri[\"stop_date\"]+\" \"+ri[\"stop_time\"]])"
   ]
  },
  {
   "cell_type": "code",
   "execution_count": 206,
   "metadata": {},
   "outputs": [],
   "source": [
    "combined = pd.to_datetime(combined)\n",
    "ri['stop_datetime']=combined\n",
    "del ri[\"stop_date\"]"
   ]
  },
  {
   "cell_type": "code",
   "execution_count": 207,
   "metadata": {
    "tags": []
   },
   "outputs": [
    {
     "output_type": "stream",
     "name": "stdout",
     "text": "<class 'pandas.core.frame.DataFrame'>\nInt64Index: 48010 entries, 0 to 49999\nData columns (total 20 columns):\n #   Column              Non-Null Count  Dtype         \n---  ------              --------------  -----         \n 0   id                  48010 non-null  object        \n 1   stop_time           48010 non-null  object        \n 2   police_department   48010 non-null  object        \n 3   driver_gender       48010 non-null  object        \n 4   driver_age_raw      48010 non-null  float64       \n 5   driver_age          47778 non-null  float64       \n 6   driver_race_raw     48010 non-null  object        \n 7   driver_race         48010 non-null  object        \n 8   violation_raw       48010 non-null  object        \n 9   violation           48010 non-null  object        \n 10  search_conducted    48010 non-null  bool          \n 11  search_type         2012 non-null   object        \n 12  contraband_found    48010 non-null  bool          \n 13  stop_outcome        48010 non-null  object        \n 14  is_arrested         48010 non-null  bool          \n 15  stop_duration       48010 non-null  object        \n 16  out_of_state        47795 non-null  object        \n 17  drugs_related_stop  48010 non-null  bool          \n 18  district            48010 non-null  object        \n 19  stop_datetime       48010 non-null  datetime64[ns]\ndtypes: bool(4), datetime64[ns](1), float64(2), object(13)\nmemory usage: 7.7+ MB\n"
    }
   ],
   "source": [
    "ri.info()"
   ]
  },
  {
   "cell_type": "markdown",
   "metadata": {},
   "source": [
    "The last step that you'll take in this chapter is to set the ``stop_datetime`` column as the ``DataFrame``'s index. By replacing the default index with a ``DatetimeIndex``, you'll make it easier to analyze the dataset by date and time, which will come in handy later in the course."
   ]
  },
  {
   "cell_type": "markdown",
   "metadata": {},
   "source": [
    "**INSTRUCTIONS**\n",
    "\n",
    "*   Set ``stop_datetime`` as the ``DataFrame`` index.\n",
    "*   Examine the index to verify that it is a ``DatetimeIndex``.\n",
    "*   Examine the ``DataFrame`` columns to confirm that ``stop_datetime`` is no longer one of the columns."
   ]
  },
  {
   "cell_type": "code",
   "execution_count": 208,
   "metadata": {},
   "outputs": [
    {
     "output_type": "execute_result",
     "data": {
      "text/plain": "                                id stop_time police_department driver_gender  \\\nstop_datetime                                                                  \n2005-01-02 01:55:00  RI-2005-00001     01:55               600             M   \n2005-01-02 20:30:00  RI-2005-00002     20:30               500             M   \n2005-01-04 12:55:00  RI-2005-00004     12:55               500             M   \n2005-01-06 01:30:00  RI-2005-00005     01:30               500             M   \n2005-01-12 08:05:00  RI-2005-00006     08:05                 0             M   \n...                            ...       ...               ...           ...   \n2006-08-08 22:45:00  RI-2006-35917     22:45               300             M   \n2006-08-08 22:45:00  RI-2006-35918     22:45               300             F   \n2006-08-08 22:53:00  RI-2006-35919     22:53               500             M   \n2006-08-08 23:00:00  RI-2006-35920     23:00               600             F   \n2006-08-08 23:00:00  RI-2006-35921     23:00               300             M   \n\n                     driver_age_raw  driver_age driver_race_raw driver_race  \\\nstop_datetime                                                                 \n2005-01-02 01:55:00          1985.0        20.0               W       White   \n2005-01-02 20:30:00          1987.0        18.0               W       White   \n2005-01-04 12:55:00          1986.0        19.0               W       White   \n2005-01-06 01:30:00          1978.0        27.0               B       Black   \n2005-01-12 08:05:00          1973.0        32.0               B       Black   \n...                             ...         ...             ...         ...   \n2006-08-08 22:45:00          1973.0        33.0               B       Black   \n2006-08-08 22:45:00          1971.0        35.0               B       Black   \n2006-08-08 22:53:00          1952.0        54.0               W       White   \n2006-08-08 23:00:00          1982.0        24.0               W       White   \n2006-08-08 23:00:00          1965.0        41.0               W       White   \n\n                                      violation_raw  violation  \\\nstop_datetime                                                    \n2005-01-02 01:55:00                        Speeding   Speeding   \n2005-01-02 20:30:00                        Speeding   Speeding   \n2005-01-04 12:55:00  Equipment/Inspection Violation  Equipment   \n2005-01-06 01:30:00  Equipment/Inspection Violation  Equipment   \n2005-01-12 08:05:00                Call for Service      Other   \n...                                             ...        ...   \n2006-08-08 22:45:00  Equipment/Inspection Violation  Equipment   \n2006-08-08 22:45:00                        Speeding   Speeding   \n2006-08-08 22:53:00                        Speeding   Speeding   \n2006-08-08 23:00:00                        Speeding   Speeding   \n2006-08-08 23:00:00                        Speeding   Speeding   \n\n                     search_conducted search_type  contraband_found  \\\nstop_datetime                                                         \n2005-01-02 01:55:00             False         NaN             False   \n2005-01-02 20:30:00             False         NaN             False   \n2005-01-04 12:55:00             False         NaN             False   \n2005-01-06 01:30:00             False         NaN             False   \n2005-01-12 08:05:00             False         NaN             False   \n...                               ...         ...               ...   \n2006-08-08 22:45:00             False         NaN             False   \n2006-08-08 22:45:00             False         NaN             False   \n2006-08-08 22:53:00             False         NaN             False   \n2006-08-08 23:00:00             False         NaN             False   \n2006-08-08 23:00:00             False         NaN             False   \n\n                    stop_outcome  is_arrested stop_duration out_of_state  \\\nstop_datetime                                                              \n2005-01-02 01:55:00     Citation        False      0-15 Min        False   \n2005-01-02 20:30:00     Citation        False     16-30 Min        False   \n2005-01-04 12:55:00     Citation        False      0-15 Min        False   \n2005-01-06 01:30:00     Citation        False      0-15 Min        False   \n2005-01-12 08:05:00     Citation        False       30+ Min         True   \n...                          ...          ...           ...          ...   \n2006-08-08 22:45:00     Citation        False      0-15 Min        False   \n2006-08-08 22:45:00     Citation        False      0-15 Min         True   \n2006-08-08 22:53:00     Citation        False     16-30 Min         True   \n2006-08-08 23:00:00     Citation        False      0-15 Min        False   \n2006-08-08 23:00:00     Citation        False     16-30 Min        False   \n\n                     drugs_related_stop district  \nstop_datetime                                     \n2005-01-02 01:55:00               False  Zone K1  \n2005-01-02 20:30:00               False  Zone X4  \n2005-01-04 12:55:00               False  Zone X4  \n2005-01-06 01:30:00               False  Zone X4  \n2005-01-12 08:05:00               False  Zone X1  \n...                                 ...      ...  \n2006-08-08 22:45:00               False  Zone K3  \n2006-08-08 22:45:00               False  Zone K3  \n2006-08-08 22:53:00               False  Zone X4  \n2006-08-08 23:00:00               False  Zone K1  \n2006-08-08 23:00:00               False  Zone K3  \n\n[48010 rows x 19 columns]",
      "text/html": "<div>\n<style scoped>\n    .dataframe tbody tr th:only-of-type {\n        vertical-align: middle;\n    }\n\n    .dataframe tbody tr th {\n        vertical-align: top;\n    }\n\n    .dataframe thead th {\n        text-align: right;\n    }\n</style>\n<table border=\"1\" class=\"dataframe\">\n  <thead>\n    <tr style=\"text-align: right;\">\n      <th></th>\n      <th>id</th>\n      <th>stop_time</th>\n      <th>police_department</th>\n      <th>driver_gender</th>\n      <th>driver_age_raw</th>\n      <th>driver_age</th>\n      <th>driver_race_raw</th>\n      <th>driver_race</th>\n      <th>violation_raw</th>\n      <th>violation</th>\n      <th>search_conducted</th>\n      <th>search_type</th>\n      <th>contraband_found</th>\n      <th>stop_outcome</th>\n      <th>is_arrested</th>\n      <th>stop_duration</th>\n      <th>out_of_state</th>\n      <th>drugs_related_stop</th>\n      <th>district</th>\n    </tr>\n    <tr>\n      <th>stop_datetime</th>\n      <th></th>\n      <th></th>\n      <th></th>\n      <th></th>\n      <th></th>\n      <th></th>\n      <th></th>\n      <th></th>\n      <th></th>\n      <th></th>\n      <th></th>\n      <th></th>\n      <th></th>\n      <th></th>\n      <th></th>\n      <th></th>\n      <th></th>\n      <th></th>\n      <th></th>\n    </tr>\n  </thead>\n  <tbody>\n    <tr>\n      <th>2005-01-02 01:55:00</th>\n      <td>RI-2005-00001</td>\n      <td>01:55</td>\n      <td>600</td>\n      <td>M</td>\n      <td>1985.0</td>\n      <td>20.0</td>\n      <td>W</td>\n      <td>White</td>\n      <td>Speeding</td>\n      <td>Speeding</td>\n      <td>False</td>\n      <td>NaN</td>\n      <td>False</td>\n      <td>Citation</td>\n      <td>False</td>\n      <td>0-15 Min</td>\n      <td>False</td>\n      <td>False</td>\n      <td>Zone K1</td>\n    </tr>\n    <tr>\n      <th>2005-01-02 20:30:00</th>\n      <td>RI-2005-00002</td>\n      <td>20:30</td>\n      <td>500</td>\n      <td>M</td>\n      <td>1987.0</td>\n      <td>18.0</td>\n      <td>W</td>\n      <td>White</td>\n      <td>Speeding</td>\n      <td>Speeding</td>\n      <td>False</td>\n      <td>NaN</td>\n      <td>False</td>\n      <td>Citation</td>\n      <td>False</td>\n      <td>16-30 Min</td>\n      <td>False</td>\n      <td>False</td>\n      <td>Zone X4</td>\n    </tr>\n    <tr>\n      <th>2005-01-04 12:55:00</th>\n      <td>RI-2005-00004</td>\n      <td>12:55</td>\n      <td>500</td>\n      <td>M</td>\n      <td>1986.0</td>\n      <td>19.0</td>\n      <td>W</td>\n      <td>White</td>\n      <td>Equipment/Inspection Violation</td>\n      <td>Equipment</td>\n      <td>False</td>\n      <td>NaN</td>\n      <td>False</td>\n      <td>Citation</td>\n      <td>False</td>\n      <td>0-15 Min</td>\n      <td>False</td>\n      <td>False</td>\n      <td>Zone X4</td>\n    </tr>\n    <tr>\n      <th>2005-01-06 01:30:00</th>\n      <td>RI-2005-00005</td>\n      <td>01:30</td>\n      <td>500</td>\n      <td>M</td>\n      <td>1978.0</td>\n      <td>27.0</td>\n      <td>B</td>\n      <td>Black</td>\n      <td>Equipment/Inspection Violation</td>\n      <td>Equipment</td>\n      <td>False</td>\n      <td>NaN</td>\n      <td>False</td>\n      <td>Citation</td>\n      <td>False</td>\n      <td>0-15 Min</td>\n      <td>False</td>\n      <td>False</td>\n      <td>Zone X4</td>\n    </tr>\n    <tr>\n      <th>2005-01-12 08:05:00</th>\n      <td>RI-2005-00006</td>\n      <td>08:05</td>\n      <td>0</td>\n      <td>M</td>\n      <td>1973.0</td>\n      <td>32.0</td>\n      <td>B</td>\n      <td>Black</td>\n      <td>Call for Service</td>\n      <td>Other</td>\n      <td>False</td>\n      <td>NaN</td>\n      <td>False</td>\n      <td>Citation</td>\n      <td>False</td>\n      <td>30+ Min</td>\n      <td>True</td>\n      <td>False</td>\n      <td>Zone X1</td>\n    </tr>\n    <tr>\n      <th>...</th>\n      <td>...</td>\n      <td>...</td>\n      <td>...</td>\n      <td>...</td>\n      <td>...</td>\n      <td>...</td>\n      <td>...</td>\n      <td>...</td>\n      <td>...</td>\n      <td>...</td>\n      <td>...</td>\n      <td>...</td>\n      <td>...</td>\n      <td>...</td>\n      <td>...</td>\n      <td>...</td>\n      <td>...</td>\n      <td>...</td>\n      <td>...</td>\n    </tr>\n    <tr>\n      <th>2006-08-08 22:45:00</th>\n      <td>RI-2006-35917</td>\n      <td>22:45</td>\n      <td>300</td>\n      <td>M</td>\n      <td>1973.0</td>\n      <td>33.0</td>\n      <td>B</td>\n      <td>Black</td>\n      <td>Equipment/Inspection Violation</td>\n      <td>Equipment</td>\n      <td>False</td>\n      <td>NaN</td>\n      <td>False</td>\n      <td>Citation</td>\n      <td>False</td>\n      <td>0-15 Min</td>\n      <td>False</td>\n      <td>False</td>\n      <td>Zone K3</td>\n    </tr>\n    <tr>\n      <th>2006-08-08 22:45:00</th>\n      <td>RI-2006-35918</td>\n      <td>22:45</td>\n      <td>300</td>\n      <td>F</td>\n      <td>1971.0</td>\n      <td>35.0</td>\n      <td>B</td>\n      <td>Black</td>\n      <td>Speeding</td>\n      <td>Speeding</td>\n      <td>False</td>\n      <td>NaN</td>\n      <td>False</td>\n      <td>Citation</td>\n      <td>False</td>\n      <td>0-15 Min</td>\n      <td>True</td>\n      <td>False</td>\n      <td>Zone K3</td>\n    </tr>\n    <tr>\n      <th>2006-08-08 22:53:00</th>\n      <td>RI-2006-35919</td>\n      <td>22:53</td>\n      <td>500</td>\n      <td>M</td>\n      <td>1952.0</td>\n      <td>54.0</td>\n      <td>W</td>\n      <td>White</td>\n      <td>Speeding</td>\n      <td>Speeding</td>\n      <td>False</td>\n      <td>NaN</td>\n      <td>False</td>\n      <td>Citation</td>\n      <td>False</td>\n      <td>16-30 Min</td>\n      <td>True</td>\n      <td>False</td>\n      <td>Zone X4</td>\n    </tr>\n    <tr>\n      <th>2006-08-08 23:00:00</th>\n      <td>RI-2006-35920</td>\n      <td>23:00</td>\n      <td>600</td>\n      <td>F</td>\n      <td>1982.0</td>\n      <td>24.0</td>\n      <td>W</td>\n      <td>White</td>\n      <td>Speeding</td>\n      <td>Speeding</td>\n      <td>False</td>\n      <td>NaN</td>\n      <td>False</td>\n      <td>Citation</td>\n      <td>False</td>\n      <td>0-15 Min</td>\n      <td>False</td>\n      <td>False</td>\n      <td>Zone K1</td>\n    </tr>\n    <tr>\n      <th>2006-08-08 23:00:00</th>\n      <td>RI-2006-35921</td>\n      <td>23:00</td>\n      <td>300</td>\n      <td>M</td>\n      <td>1965.0</td>\n      <td>41.0</td>\n      <td>W</td>\n      <td>White</td>\n      <td>Speeding</td>\n      <td>Speeding</td>\n      <td>False</td>\n      <td>NaN</td>\n      <td>False</td>\n      <td>Citation</td>\n      <td>False</td>\n      <td>16-30 Min</td>\n      <td>False</td>\n      <td>False</td>\n      <td>Zone K3</td>\n    </tr>\n  </tbody>\n</table>\n<p>48010 rows × 19 columns</p>\n</div>"
     },
     "metadata": {},
     "execution_count": 208
    }
   ],
   "source": [
    "ri.set_index(\"stop_datetime\")"
   ]
  },
  {
   "cell_type": "code",
   "execution_count": 209,
   "metadata": {
    "tags": []
   },
   "outputs": [
    {
     "output_type": "stream",
     "name": "stdout",
     "text": "<class 'pandas.core.frame.DataFrame'>\nInt64Index: 48010 entries, 0 to 49999\nData columns (total 20 columns):\n #   Column              Non-Null Count  Dtype         \n---  ------              --------------  -----         \n 0   id                  48010 non-null  object        \n 1   stop_time           48010 non-null  object        \n 2   police_department   48010 non-null  object        \n 3   driver_gender       48010 non-null  object        \n 4   driver_age_raw      48010 non-null  float64       \n 5   driver_age          47778 non-null  float64       \n 6   driver_race_raw     48010 non-null  object        \n 7   driver_race         48010 non-null  object        \n 8   violation_raw       48010 non-null  object        \n 9   violation           48010 non-null  object        \n 10  search_conducted    48010 non-null  bool          \n 11  search_type         2012 non-null   object        \n 12  contraband_found    48010 non-null  bool          \n 13  stop_outcome        48010 non-null  object        \n 14  is_arrested         48010 non-null  bool          \n 15  stop_duration       48010 non-null  object        \n 16  out_of_state        47795 non-null  object        \n 17  drugs_related_stop  48010 non-null  bool          \n 18  district            48010 non-null  object        \n 19  stop_datetime       48010 non-null  datetime64[ns]\ndtypes: bool(4), datetime64[ns](1), float64(2), object(13)\nmemory usage: 7.7+ MB\n"
    }
   ],
   "source": [
    "ri.info()"
   ]
  },
  {
   "cell_type": "code",
   "execution_count": null,
   "metadata": {},
   "outputs": [],
   "source": []
  }
 ],
 "metadata": {
  "kernelspec": {
   "display_name": "Python 3.7.7 64-bit ('base': conda)",
   "language": "python",
   "name": "python_defaultSpec_1599035569629"
  },
  "language_info": {
   "codemirror_mode": {
    "name": "ipython",
    "version": 3
   },
   "file_extension": ".py",
   "mimetype": "text/x-python",
   "name": "python",
   "nbconvert_exporter": "python",
   "pygments_lexer": "ipython3",
   "version": "3.7.7-final"
  }
 },
 "nbformat": 4,
 "nbformat_minor": 4
}