{
 "cells": [
  {
   "cell_type": "markdown",
   "metadata": {},
   "source": [
    "___\n",
    "\n",
    "<p style=\"text-align: center;\"><img src=\"https://docs.google.com/uc?id=1lY0Uj5R04yMY3-ZppPWxqCr5pvBLYPnV\" class=\"img-fluid\" alt=\"CLRSWY\"></p>\n",
    "\n",
    "___"
   ]
  },
  {
   "cell_type": "markdown",
   "metadata": {},
   "source": [
    "<h1><p style=\"text-align: center;\">Data Analysis with Python <br>Project - 1</p><h1> - Traffic Police Stops <img src=\"https://docs.google.com/uc?id=17CPCwi3_VvzcS87TOsh4_U8eExOhL6Ki\" class=\"img-fluid\" alt=\"CLRSWY\" width=\"200\" height=\"100\"> "
   ]
  },
  {
   "cell_type": "markdown",
   "metadata": {},
   "source": [
    "Does the ``gender`` of a driver have an impact on police behavior during a traffic stop? **In this chapter**, you will explore that question while practicing filtering, grouping, method chaining, Boolean math, string methods, and more!"
   ]
  },
  {
   "cell_type": "markdown",
   "metadata": {},
   "source": [
    "***"
   ]
  },
  {
   "cell_type": "markdown",
   "metadata": {},
   "source": [
    "## Examining traffic violations"
   ]
  },
  {
   "cell_type": "markdown",
   "metadata": {},
   "source": [
    "Before comparing the violations being committed by each gender, you should examine the ``violations`` committed by all drivers to get a baseline understanding of the data.\n",
    "\n",
    "In this exercise, you'll count the unique values in the ``violation`` column, and then separately express those counts as proportions."
   ]
  },
  {
   "cell_type": "markdown",
   "metadata": {},
   "source": [
    "> Before starting your work in this section **repeat the steps which you did in the previos chapter for preparing the data.** Continue to this chapter based on where you were in the end of the previous chapter."
   ]
  },
  {
   "cell_type": "code",
   "execution_count": 132,
   "metadata": {},
   "outputs": [],
   "source": [
    "import pandas as pd\n",
    "import numpy as np\n",
    "ri = pd.read_csv('police.csv',nrows=50000) "
   ]
  },
  {
   "cell_type": "code",
   "execution_count": 133,
   "metadata": {},
   "outputs": [],
   "source": [
    "ri.drop([\"county_name\", \"state\",\"county_fips\",\"fine_grained_location\",\"search_type_raw\",\"location_raw\"], inplace = True , axis = 1)"
   ]
  },
  {
   "cell_type": "code",
   "execution_count": 134,
   "metadata": {},
   "outputs": [],
   "source": [
    "ri.dropna(inplace=True, subset=[\"driver_gender\"], axis=0)"
   ]
  },
  {
   "cell_type": "code",
   "execution_count": 135,
   "metadata": {},
   "outputs": [],
   "source": [
    "ri.is_arrested=ri.is_arrested.astype(\"bool\")"
   ]
  },
  {
   "cell_type": "code",
   "execution_count": 136,
   "metadata": {},
   "outputs": [
    {
     "output_type": "execute_result",
     "data": {
      "text/plain": "                             id   stop_date stop_time police_department  \\\nstop_datetime                                                             \n2005-01-02 01:55  RI-2005-00001  2005-01-02     01:55               600   \n2005-01-02 20:30  RI-2005-00002  2005-01-02     20:30               500   \n2005-01-04 12:55  RI-2005-00004  2005-01-04     12:55               500   \n2005-01-06 01:30  RI-2005-00005  2005-01-06     01:30               500   \n2005-01-12 08:05  RI-2005-00006  2005-01-12     08:05                 0   \n...                         ...         ...       ...               ...   \n2006-08-08 22:45  RI-2006-35917  2006-08-08     22:45               300   \n2006-08-08 22:45  RI-2006-35918  2006-08-08     22:45               300   \n2006-08-08 22:53  RI-2006-35919  2006-08-08     22:53               500   \n2006-08-08 23:00  RI-2006-35920  2006-08-08     23:00               600   \n2006-08-08 23:00  RI-2006-35921  2006-08-08     23:00               300   \n\n                 driver_gender  driver_age_raw  driver_age driver_race_raw  \\\nstop_datetime                                                                \n2005-01-02 01:55             M          1985.0        20.0               W   \n2005-01-02 20:30             M          1987.0        18.0               W   \n2005-01-04 12:55             M          1986.0        19.0               W   \n2005-01-06 01:30             M          1978.0        27.0               B   \n2005-01-12 08:05             M          1973.0        32.0               B   \n...                        ...             ...         ...             ...   \n2006-08-08 22:45             M          1973.0        33.0               B   \n2006-08-08 22:45             F          1971.0        35.0               B   \n2006-08-08 22:53             M          1952.0        54.0               W   \n2006-08-08 23:00             F          1982.0        24.0               W   \n2006-08-08 23:00             M          1965.0        41.0               W   \n\n                 driver_race                   violation_raw  violation  \\\nstop_datetime                                                             \n2005-01-02 01:55       White                        Speeding   Speeding   \n2005-01-02 20:30       White                        Speeding   Speeding   \n2005-01-04 12:55       White  Equipment/Inspection Violation  Equipment   \n2005-01-06 01:30       Black  Equipment/Inspection Violation  Equipment   \n2005-01-12 08:05       Black                Call for Service      Other   \n...                      ...                             ...        ...   \n2006-08-08 22:45       Black  Equipment/Inspection Violation  Equipment   \n2006-08-08 22:45       Black                        Speeding   Speeding   \n2006-08-08 22:53       White                        Speeding   Speeding   \n2006-08-08 23:00       White                        Speeding   Speeding   \n2006-08-08 23:00       White                        Speeding   Speeding   \n\n                  search_conducted search_type  contraband_found stop_outcome  \\\nstop_datetime                                                                   \n2005-01-02 01:55             False         NaN             False     Citation   \n2005-01-02 20:30             False         NaN             False     Citation   \n2005-01-04 12:55             False         NaN             False     Citation   \n2005-01-06 01:30             False         NaN             False     Citation   \n2005-01-12 08:05             False         NaN             False     Citation   \n...                            ...         ...               ...          ...   \n2006-08-08 22:45             False         NaN             False     Citation   \n2006-08-08 22:45             False         NaN             False     Citation   \n2006-08-08 22:53             False         NaN             False     Citation   \n2006-08-08 23:00             False         NaN             False     Citation   \n2006-08-08 23:00             False         NaN             False     Citation   \n\n                  is_arrested stop_duration out_of_state  drugs_related_stop  \\\nstop_datetime                                                                  \n2005-01-02 01:55        False      0-15 Min        False               False   \n2005-01-02 20:30        False     16-30 Min        False               False   \n2005-01-04 12:55        False      0-15 Min        False               False   \n2005-01-06 01:30        False      0-15 Min        False               False   \n2005-01-12 08:05        False       30+ Min         True               False   \n...                       ...           ...          ...                 ...   \n2006-08-08 22:45        False      0-15 Min        False               False   \n2006-08-08 22:45        False      0-15 Min         True               False   \n2006-08-08 22:53        False     16-30 Min         True               False   \n2006-08-08 23:00        False      0-15 Min        False               False   \n2006-08-08 23:00        False     16-30 Min        False               False   \n\n                 district  \nstop_datetime              \n2005-01-02 01:55  Zone K1  \n2005-01-02 20:30  Zone X4  \n2005-01-04 12:55  Zone X4  \n2005-01-06 01:30  Zone X4  \n2005-01-12 08:05  Zone X1  \n...                   ...  \n2006-08-08 22:45  Zone K3  \n2006-08-08 22:45  Zone K3  \n2006-08-08 22:53  Zone X4  \n2006-08-08 23:00  Zone K1  \n2006-08-08 23:00  Zone K3  \n\n[48010 rows x 20 columns]",
      "text/html": "<div>\n<style scoped>\n    .dataframe tbody tr th:only-of-type {\n        vertical-align: middle;\n    }\n\n    .dataframe tbody tr th {\n        vertical-align: top;\n    }\n\n    .dataframe thead th {\n        text-align: right;\n    }\n</style>\n<table border=\"1\" class=\"dataframe\">\n  <thead>\n    <tr style=\"text-align: right;\">\n      <th></th>\n      <th>id</th>\n      <th>stop_date</th>\n      <th>stop_time</th>\n      <th>police_department</th>\n      <th>driver_gender</th>\n      <th>driver_age_raw</th>\n      <th>driver_age</th>\n      <th>driver_race_raw</th>\n      <th>driver_race</th>\n      <th>violation_raw</th>\n      <th>violation</th>\n      <th>search_conducted</th>\n      <th>search_type</th>\n      <th>contraband_found</th>\n      <th>stop_outcome</th>\n      <th>is_arrested</th>\n      <th>stop_duration</th>\n      <th>out_of_state</th>\n      <th>drugs_related_stop</th>\n      <th>district</th>\n    </tr>\n    <tr>\n      <th>stop_datetime</th>\n      <th></th>\n      <th></th>\n      <th></th>\n      <th></th>\n      <th></th>\n      <th></th>\n      <th></th>\n      <th></th>\n      <th></th>\n      <th></th>\n      <th></th>\n      <th></th>\n      <th></th>\n      <th></th>\n      <th></th>\n      <th></th>\n      <th></th>\n      <th></th>\n      <th></th>\n      <th></th>\n    </tr>\n  </thead>\n  <tbody>\n    <tr>\n      <th>2005-01-02 01:55</th>\n      <td>RI-2005-00001</td>\n      <td>2005-01-02</td>\n      <td>01:55</td>\n      <td>600</td>\n      <td>M</td>\n      <td>1985.0</td>\n      <td>20.0</td>\n      <td>W</td>\n      <td>White</td>\n      <td>Speeding</td>\n      <td>Speeding</td>\n      <td>False</td>\n      <td>NaN</td>\n      <td>False</td>\n      <td>Citation</td>\n      <td>False</td>\n      <td>0-15 Min</td>\n      <td>False</td>\n      <td>False</td>\n      <td>Zone K1</td>\n    </tr>\n    <tr>\n      <th>2005-01-02 20:30</th>\n      <td>RI-2005-00002</td>\n      <td>2005-01-02</td>\n      <td>20:30</td>\n      <td>500</td>\n      <td>M</td>\n      <td>1987.0</td>\n      <td>18.0</td>\n      <td>W</td>\n      <td>White</td>\n      <td>Speeding</td>\n      <td>Speeding</td>\n      <td>False</td>\n      <td>NaN</td>\n      <td>False</td>\n      <td>Citation</td>\n      <td>False</td>\n      <td>16-30 Min</td>\n      <td>False</td>\n      <td>False</td>\n      <td>Zone X4</td>\n    </tr>\n    <tr>\n      <th>2005-01-04 12:55</th>\n      <td>RI-2005-00004</td>\n      <td>2005-01-04</td>\n      <td>12:55</td>\n      <td>500</td>\n      <td>M</td>\n      <td>1986.0</td>\n      <td>19.0</td>\n      <td>W</td>\n      <td>White</td>\n      <td>Equipment/Inspection Violation</td>\n      <td>Equipment</td>\n      <td>False</td>\n      <td>NaN</td>\n      <td>False</td>\n      <td>Citation</td>\n      <td>False</td>\n      <td>0-15 Min</td>\n      <td>False</td>\n      <td>False</td>\n      <td>Zone X4</td>\n    </tr>\n    <tr>\n      <th>2005-01-06 01:30</th>\n      <td>RI-2005-00005</td>\n      <td>2005-01-06</td>\n      <td>01:30</td>\n      <td>500</td>\n      <td>M</td>\n      <td>1978.0</td>\n      <td>27.0</td>\n      <td>B</td>\n      <td>Black</td>\n      <td>Equipment/Inspection Violation</td>\n      <td>Equipment</td>\n      <td>False</td>\n      <td>NaN</td>\n      <td>False</td>\n      <td>Citation</td>\n      <td>False</td>\n      <td>0-15 Min</td>\n      <td>False</td>\n      <td>False</td>\n      <td>Zone X4</td>\n    </tr>\n    <tr>\n      <th>2005-01-12 08:05</th>\n      <td>RI-2005-00006</td>\n      <td>2005-01-12</td>\n      <td>08:05</td>\n      <td>0</td>\n      <td>M</td>\n      <td>1973.0</td>\n      <td>32.0</td>\n      <td>B</td>\n      <td>Black</td>\n      <td>Call for Service</td>\n      <td>Other</td>\n      <td>False</td>\n      <td>NaN</td>\n      <td>False</td>\n      <td>Citation</td>\n      <td>False</td>\n      <td>30+ Min</td>\n      <td>True</td>\n      <td>False</td>\n      <td>Zone X1</td>\n    </tr>\n    <tr>\n      <th>...</th>\n      <td>...</td>\n      <td>...</td>\n      <td>...</td>\n      <td>...</td>\n      <td>...</td>\n      <td>...</td>\n      <td>...</td>\n      <td>...</td>\n      <td>...</td>\n      <td>...</td>\n      <td>...</td>\n      <td>...</td>\n      <td>...</td>\n      <td>...</td>\n      <td>...</td>\n      <td>...</td>\n      <td>...</td>\n      <td>...</td>\n      <td>...</td>\n      <td>...</td>\n    </tr>\n    <tr>\n      <th>2006-08-08 22:45</th>\n      <td>RI-2006-35917</td>\n      <td>2006-08-08</td>\n      <td>22:45</td>\n      <td>300</td>\n      <td>M</td>\n      <td>1973.0</td>\n      <td>33.0</td>\n      <td>B</td>\n      <td>Black</td>\n      <td>Equipment/Inspection Violation</td>\n      <td>Equipment</td>\n      <td>False</td>\n      <td>NaN</td>\n      <td>False</td>\n      <td>Citation</td>\n      <td>False</td>\n      <td>0-15 Min</td>\n      <td>False</td>\n      <td>False</td>\n      <td>Zone K3</td>\n    </tr>\n    <tr>\n      <th>2006-08-08 22:45</th>\n      <td>RI-2006-35918</td>\n      <td>2006-08-08</td>\n      <td>22:45</td>\n      <td>300</td>\n      <td>F</td>\n      <td>1971.0</td>\n      <td>35.0</td>\n      <td>B</td>\n      <td>Black</td>\n      <td>Speeding</td>\n      <td>Speeding</td>\n      <td>False</td>\n      <td>NaN</td>\n      <td>False</td>\n      <td>Citation</td>\n      <td>False</td>\n      <td>0-15 Min</td>\n      <td>True</td>\n      <td>False</td>\n      <td>Zone K3</td>\n    </tr>\n    <tr>\n      <th>2006-08-08 22:53</th>\n      <td>RI-2006-35919</td>\n      <td>2006-08-08</td>\n      <td>22:53</td>\n      <td>500</td>\n      <td>M</td>\n      <td>1952.0</td>\n      <td>54.0</td>\n      <td>W</td>\n      <td>White</td>\n      <td>Speeding</td>\n      <td>Speeding</td>\n      <td>False</td>\n      <td>NaN</td>\n      <td>False</td>\n      <td>Citation</td>\n      <td>False</td>\n      <td>16-30 Min</td>\n      <td>True</td>\n      <td>False</td>\n      <td>Zone X4</td>\n    </tr>\n    <tr>\n      <th>2006-08-08 23:00</th>\n      <td>RI-2006-35920</td>\n      <td>2006-08-08</td>\n      <td>23:00</td>\n      <td>600</td>\n      <td>F</td>\n      <td>1982.0</td>\n      <td>24.0</td>\n      <td>W</td>\n      <td>White</td>\n      <td>Speeding</td>\n      <td>Speeding</td>\n      <td>False</td>\n      <td>NaN</td>\n      <td>False</td>\n      <td>Citation</td>\n      <td>False</td>\n      <td>0-15 Min</td>\n      <td>False</td>\n      <td>False</td>\n      <td>Zone K1</td>\n    </tr>\n    <tr>\n      <th>2006-08-08 23:00</th>\n      <td>RI-2006-35921</td>\n      <td>2006-08-08</td>\n      <td>23:00</td>\n      <td>300</td>\n      <td>M</td>\n      <td>1965.0</td>\n      <td>41.0</td>\n      <td>W</td>\n      <td>White</td>\n      <td>Speeding</td>\n      <td>Speeding</td>\n      <td>False</td>\n      <td>NaN</td>\n      <td>False</td>\n      <td>Citation</td>\n      <td>False</td>\n      <td>16-30 Min</td>\n      <td>False</td>\n      <td>False</td>\n      <td>Zone K3</td>\n    </tr>\n  </tbody>\n</table>\n<p>48010 rows × 20 columns</p>\n</div>"
     },
     "metadata": {},
     "execution_count": 136
    }
   ],
   "source": [
    "combined=pd.concat([ri[\"stop_date\"]+\" \"+ri[\"stop_time\"]])\n",
    "ri['stop_datetime']=combined\n",
    "ri.set_index(\"stop_datetime\")\n"
   ]
  },
  {
   "cell_type": "code",
   "execution_count": null,
   "metadata": {},
   "outputs": [],
   "source": []
  },
  {
   "cell_type": "markdown",
   "metadata": {},
   "source": [
    "**INSTRUCTIONS**\n",
    "\n",
    "*   Count the unique values in the ``violation`` column, to see what violations are being committed by all drivers.\n",
    "*   Express the violation counts as proportions of the total."
   ]
  },
  {
   "cell_type": "code",
   "execution_count": 137,
   "metadata": {},
   "outputs": [
    {
     "output_type": "execute_result",
     "data": {
      "text/plain": "5"
     },
     "metadata": {},
     "execution_count": 137
    }
   ],
   "source": [
    "ri[\"violation\"].nunique()"
   ]
  },
  {
   "cell_type": "code",
   "execution_count": 138,
   "metadata": {},
   "outputs": [
    {
     "output_type": "execute_result",
     "data": {
      "text/plain": "array(['Speeding', 'Equipment', 'Other', 'Moving violation',\n       'Registration/plates'], dtype=object)"
     },
     "metadata": {},
     "execution_count": 138
    }
   ],
   "source": [
    "ri.violation.unique()"
   ]
  },
  {
   "cell_type": "code",
   "execution_count": 139,
   "metadata": {},
   "outputs": [
    {
     "output_type": "execute_result",
     "data": {
      "text/plain": "Speeding               36111\nMoving violation        6522\nEquipment               3022\nRegistration/plates     1463\nOther                    892\nName: violation, dtype: int64"
     },
     "metadata": {},
     "execution_count": 139
    }
   ],
   "source": [
    "ri.violation.value_counts()"
   ]
  },
  {
   "cell_type": "code",
   "execution_count": 140,
   "metadata": {},
   "outputs": [
    {
     "output_type": "execute_result",
     "data": {
      "text/plain": "Speeding               0.752156\nMoving violation       0.135847\nEquipment              0.062945\nRegistration/plates    0.030473\nOther                  0.018579\nName: violation, dtype: float64"
     },
     "metadata": {},
     "execution_count": 140
    }
   ],
   "source": [
    "ri.violation.value_counts(normalize=True)"
   ]
  },
  {
   "cell_type": "markdown",
   "metadata": {},
   "source": [
    "More than half of all violations are for speeding, followed by other moving violations and equipment violations."
   ]
  },
  {
   "cell_type": "markdown",
   "metadata": {},
   "source": [
    "***"
   ]
  },
  {
   "cell_type": "markdown",
   "metadata": {},
   "source": [
    "## Comparing violations by gender"
   ]
  },
  {
   "cell_type": "markdown",
   "metadata": {},
   "source": [
    "The question we're trying to answer is whether male and female drivers tend to commit different types of traffic violations.\n",
    "\n",
    "You'll first create a ``DataFrame`` for each gender, and then analyze the ``violations`` in each ``DataFrame`` separately."
   ]
  },
  {
   "cell_type": "markdown",
   "metadata": {},
   "source": [
    "**INSTRUCTIONS**\n",
    "\n",
    "*   Create a ``DataFrame``, female, that only contains rows in which ``driver_gender`` is ``'F'``.\n",
    "*   Create a ``DataFrame``, male, that only contains rows in which ``driver_gender`` is ``'M'``.\n",
    "*   Count the ``violations`` committed by female drivers and express them as proportions.\n",
    "*   Count the violations committed by male drivers and express them as proportions."
   ]
  },
  {
   "cell_type": "markdown",
   "metadata": {},
   "source": [
    "***"
   ]
  },
  {
   "cell_type": "code",
   "execution_count": 141,
   "metadata": {},
   "outputs": [],
   "source": [
    "female= ri[ri.driver_gender==\"F\"]"
   ]
  },
  {
   "cell_type": "code",
   "execution_count": 142,
   "metadata": {
    "tags": []
   },
   "outputs": [],
   "source": [
    "male= ri[ri.driver_gender==\"M\"]"
   ]
  },
  {
   "cell_type": "code",
   "execution_count": 143,
   "metadata": {},
   "outputs": [
    {
     "output_type": "execute_result",
     "data": {
      "text/plain": "Speeding               0.729518\nMoving violation       0.149967\nEquipment              0.069595\nRegistration/plates    0.031584\nOther                  0.019337\nName: violation, dtype: float64"
     },
     "metadata": {},
     "execution_count": 143
    }
   ],
   "source": [
    "male.violation.value_counts(normalize=True)"
   ]
  },
  {
   "cell_type": "code",
   "execution_count": 144,
   "metadata": {},
   "outputs": [
    {
     "output_type": "execute_result",
     "data": {
      "text/plain": "Speeding               0.811180\nMoving violation       0.099031\nEquipment              0.045608\nRegistration/plates    0.027575\nOther                  0.016605\nName: violation, dtype: float64"
     },
     "metadata": {},
     "execution_count": 144
    }
   ],
   "source": [
    "female.violation.value_counts(normalize=True)"
   ]
  },
  {
   "cell_type": "code",
   "execution_count": 145,
   "metadata": {},
   "outputs": [
    {
     "output_type": "error",
     "ename": "SyntaxError",
     "evalue": "invalid syntax (<ipython-input-145-00cced842442>, line 1)",
     "traceback": [
      "\u001b[1;36m  File \u001b[1;32m\"<ipython-input-145-00cced842442>\"\u001b[1;36m, line \u001b[1;32m1\u001b[0m\n\u001b[1;33m    About two-thirds of female traffic stops are for speeding, whereas stops of males are more balanced among the six categories. This doesn't mean that females speed more often than males, however, since we didn't take into account the number of stops or drivers.\u001b[0m\n\u001b[1;37m            ^\u001b[0m\n\u001b[1;31mSyntaxError\u001b[0m\u001b[1;31m:\u001b[0m invalid syntax\n"
     ]
    }
   ],
   "source": [
    "About two-thirds of female traffic stops are for speeding, whereas stops of males are more balanced among the six categories. This doesn't mean that females speed more often than males, however, since we didn't take into account the number of stops or drivers."
   ]
  },
  {
   "cell_type": "markdown",
   "metadata": {},
   "source": [
    "## Comparing speeding outcomes by gender"
   ]
  },
  {
   "cell_type": "markdown",
   "metadata": {},
   "source": [
    "When a driver is pulled over for speeding, many people believe that gender has an impact on whether the driver will receive a ticket or a warning. Can you find evidence of this in the dataset?\n",
    "\n",
    "First, you'll create two ``DataFrames`` of drivers who were stopped for ``speeding``: one containing ***females*** and the other containing ***males***.\n",
    "\n",
    "Then, for each **gender**, you'll use the ``stop_outcome`` column to calculate what percentage of stops resulted in a ``\"Citation\"`` (meaning a ticket) versus a ``\"Warning\"``."
   ]
  },
  {
   "cell_type": "markdown",
   "metadata": {},
   "source": [
    "**INSTRUCTIONS**\n",
    "\n",
    "*   Create a ``DataFrame``, ``female_and_speeding``, that only includes female drivers who were stopped for speeding.\n",
    "*   Create a ``DataFrame``, ``male_and_speeding``, that only includes male drivers who were stopped for speeding.\n",
    "*   Count the **stop outcomes** for the female drivers and express them as proportions.\n",
    "*   Count the **stop outcomes** for the male drivers and express them as proportions."
   ]
  },
  {
   "cell_type": "code",
   "execution_count": 146,
   "metadata": {},
   "outputs": [],
   "source": [
    "female_and_speeding=ri[(ri.driver_gender==\"F\") & (ri.violation==\"Speeding\")]"
   ]
  },
  {
   "cell_type": "code",
   "execution_count": 147,
   "metadata": {},
   "outputs": [],
   "source": [
    "male_and_speeding=ri[(ri.driver_gender==\"M\") & (ri.violation==\"Speeding\")]"
   ]
  },
  {
   "cell_type": "code",
   "execution_count": 148,
   "metadata": {
    "tags": []
   },
   "outputs": [
    {
     "output_type": "execute_result",
     "data": {
      "text/plain": "Citation            0.973416\nWarning             0.012968\nArrest Driver       0.007410\nN/D                 0.003612\nArrest Passenger    0.002316\nNo Action           0.000278\nName: stop_outcome, dtype: float64"
     },
     "metadata": {},
     "execution_count": 148
    }
   ],
   "source": [
    "female_and_speeding.stop_outcome.value_counts(normalize=True)"
   ]
  },
  {
   "cell_type": "code",
   "execution_count": 149,
   "metadata": {},
   "outputs": [
    {
     "output_type": "execute_result",
     "data": {
      "text/plain": "Citation            0.957298\nArrest Driver       0.026230\nWarning             0.010666\nN/D                 0.003397\nArrest Passenger    0.002015\nNo Action           0.000395\nName: stop_outcome, dtype: float64"
     },
     "metadata": {},
     "execution_count": 149
    }
   ],
   "source": [
    "male_and_speeding.stop_outcome.value_counts(normalize=True)"
   ]
  },
  {
   "cell_type": "markdown",
   "metadata": {},
   "source": [
    "* Interesting! The numbers are similar for males and females: about 95% of stops for speeding result in a ticket. Thus, the data fails to show that gender has an impact on who gets a ticket for speeding."
   ]
  },
  {
   "cell_type": "markdown",
   "metadata": {},
   "source": [
    "***"
   ]
  },
  {
   "cell_type": "markdown",
   "metadata": {},
   "source": [
    "## Calculating the search rate"
   ]
  },
  {
   "cell_type": "markdown",
   "metadata": {},
   "source": [
    "During a traffic stop, the police officer sometimes conducts a search of the vehicle. In this exercise, you'll calculate the percentage of all stops that result in a vehicle search, also known as the **search rate**."
   ]
  },
  {
   "cell_type": "markdown",
   "metadata": {},
   "source": [
    "**INSTRUCTIONS**\n",
    "\n",
    "*   Check the data type of ``search_conducted`` to confirm that it's a ``Boolean Series``.\n",
    "*   Calculate the search rate by counting the ``Series`` values and expressing them as proportions.\n",
    "*   Calculate the search rate by taking the mean of the ``Series``. (It should match the proportion of ``True`` values calculated above.)"
   ]
  },
  {
   "cell_type": "code",
   "execution_count": 151,
   "metadata": {
    "tags": []
   },
   "outputs": [
    {
     "output_type": "execute_result",
     "data": {
      "text/plain": "dtype('bool')"
     },
     "metadata": {},
     "execution_count": 151
    }
   ],
   "source": [
    "ri.search_conducted.dtype #ri[[\"search_conducted\"]].info()"
   ]
  },
  {
   "cell_type": "markdown",
   "metadata": {},
   "source": [
    "***"
   ]
  },
  {
   "cell_type": "code",
   "execution_count": 152,
   "metadata": {},
   "outputs": [
    {
     "output_type": "execute_result",
     "data": {
      "text/plain": "False    0.958092\nTrue     0.041908\nName: search_conducted, dtype: float64"
     },
     "metadata": {},
     "execution_count": 152
    }
   ],
   "source": [
    "ri.search_conducted.value_counts(normalize=True)"
   ]
  },
  {
   "cell_type": "code",
   "execution_count": 153,
   "metadata": {},
   "outputs": [
    {
     "output_type": "execute_result",
     "data": {
      "text/plain": "0.041908"
     },
     "metadata": {},
     "execution_count": 153
    }
   ],
   "source": [
    "(ri.search_conducted.mean()).round(6)\n"
   ]
  },
  {
   "cell_type": "markdown",
   "metadata": {},
   "source": [
    "## Comparing search rates by gender"
   ]
  },
  {
   "cell_type": "markdown",
   "metadata": {},
   "source": [
    "You'll compare the rates at which **female** and **male** drivers are searched during a traffic stop. Remember that the vehicle search rate across all stops is about **3.8%**.\n",
    "\n",
    "First, you'll filter the ``DataFrame`` by gender and calculate the search rate for each group separately. Then, you'll perform the same calculation for both genders at once using a ``.groupby()``."
   ]
  },
  {
   "cell_type": "markdown",
   "metadata": {},
   "source": [
    "**INSTRUCTIONS 1/3**\n",
    "\n",
    "*   Filter the ``DataFrame`` to only include **female** drivers, and then calculate the search rate by taking the mean of ``search_conducted``."
   ]
  },
  {
   "cell_type": "code",
   "execution_count": 154,
   "metadata": {},
   "outputs": [
    {
     "output_type": "execute_result",
     "data": {
      "text/plain": "0.017807"
     },
     "metadata": {},
     "execution_count": 154
    }
   ],
   "source": [
    "ri[ri.driver_gender==\"F\"].search_conducted.mean().round(6)"
   ]
  },
  {
   "cell_type": "markdown",
   "metadata": {},
   "source": [
    "**INSTRUCTIONS 2/3**\n",
    "\n",
    "*   Filter the ``DataFrame`` to only include **male** drivers, and then repeat the search rate calculation."
   ]
  },
  {
   "cell_type": "code",
   "execution_count": 155,
   "metadata": {},
   "outputs": [
    {
     "output_type": "execute_result",
     "data": {
      "text/plain": "0.05115126365234431"
     },
     "metadata": {},
     "execution_count": 155
    }
   ],
   "source": [
    "ri[ri.driver_gender==\"M\"].search_conducted.mean()#ri[ri[\"driver_gender\"]==\"M\"].search_conducted.mean()"
   ]
  },
  {
   "cell_type": "markdown",
   "metadata": {},
   "source": [
    "**INSTRUCTIONS 3/3**\n",
    "\n",
    "*   Group by driver gender to calculate the search rate for both groups simultaneously. (It should match the previous results.)"
   ]
  },
  {
   "cell_type": "code",
   "execution_count": 156,
   "metadata": {},
   "outputs": [
    {
     "output_type": "execute_result",
     "data": {
      "text/plain": "driver_gender\nF    0.017807\nM    0.051151\nName: search_conducted, dtype: float64"
     },
     "metadata": {},
     "execution_count": 156
    }
   ],
   "source": [
    "ri.groupby(by=\"driver_gender\").search_conducted.mean()"
   ]
  },
  {
   "cell_type": "markdown",
   "metadata": {},
   "source": [
    "* Male drivers are searched more than twice as often as female drivers."
   ]
  },
  {
   "cell_type": "markdown",
   "metadata": {},
   "source": [
    "***"
   ]
  },
  {
   "cell_type": "markdown",
   "metadata": {},
   "source": [
    "## Adding a second factor to the analysis"
   ]
  },
  {
   "cell_type": "markdown",
   "metadata": {},
   "source": [
    "Even though the search rate for males is much higher than for females, it's possible that the difference is mostly due to a second factor.\n",
    "\n",
    "For example, you might hypothesize that the search rate varies by violation type, and the difference in search rate between males and females is because they tend to commit different violations.\n",
    "\n",
    "You can test this hypothesis by examining the search rate for each combination of gender and violation. If the hypothesis was true, you would find that males and females are searched at about the same rate for each violation. Find out below if that's the case!"
   ]
  },
  {
   "cell_type": "markdown",
   "metadata": {},
   "source": [
    "**INSTRUCTIONS 1/2**\n",
    "\n",
    "*   Use a ``.groupby()`` to calculate the search rate for each combination of gender and violation. Are males and females searched at about the same rate for each violation?"
   ]
  },
  {
   "cell_type": "code",
   "execution_count": 157,
   "metadata": {},
   "outputs": [
    {
     "output_type": "execute_result",
     "data": {
      "text/plain": "driver_gender  violation          \nF              Equipment              0.079077\n               Moving violation       0.047800\n               Other                  0.045249\n               Registration/plates    0.114441\n               Speeding               0.006854\nM              Equipment              0.123395\n               Moving violation       0.088778\n               Other                  0.154993\n               Registration/plates    0.171533\n               Speeding               0.028560\nName: search_conducted, dtype: float64"
     },
     "metadata": {},
     "execution_count": 157
    }
   ],
   "source": [
    "ri.groupby([\"driver_gender\",\"violation\"]).search_conducted.mean()"
   ]
  },
  {
   "cell_type": "markdown",
   "metadata": {},
   "source": [
    "**INSTRUCTIONS 2/2**\n",
    "\n",
    "*   Reverse the ordering to group by violation before gender. The results may be easier to compare when presented this way."
   ]
  },
  {
   "cell_type": "code",
   "execution_count": 158,
   "metadata": {},
   "outputs": [
    {
     "output_type": "execute_result",
     "data": {
      "text/plain": "violation            driver_gender\nEquipment            F                0.079077\n                     M                0.123395\nMoving violation     F                0.047800\n                     M                0.088778\nOther                F                0.045249\n                     M                0.154993\nRegistration/plates  F                0.114441\n                     M                0.171533\nSpeeding             F                0.006854\n                     M                0.028560\nName: search_conducted, dtype: float64"
     },
     "metadata": {},
     "execution_count": 158
    }
   ],
   "source": [
    "ri.groupby([\"violation\",\"driver_gender\"]).search_conducted.mean()"
   ]
  },
  {
   "cell_type": "markdown",
   "metadata": {},
   "source": [
    "* For all types of violations, the search rate is higher for males than for females.disproving our hypothesis."
   ]
  },
  {
   "cell_type": "markdown",
   "metadata": {},
   "source": [
    "***"
   ]
  },
  {
   "cell_type": "markdown",
   "metadata": {},
   "source": [
    "## Counting protective frisks"
   ]
  },
  {
   "cell_type": "markdown",
   "metadata": {},
   "source": [
    "During a vehicle search, the police officer may pat down the driver to check if they have a weapon. This is known as a ``\"protective frisk.\"``\n",
    "\n",
    "You'll first check to see how many times \"Protective Frisk\" was the only search type. Then, you'll use a string method to locate all instances in which the driver was frisked."
   ]
  },
  {
   "cell_type": "markdown",
   "metadata": {},
   "source": [
    "**INSTRUCTIONS**\n",
    "\n",
    "*   Count the ``search_type`` values to see how many times ``\"Protective Frisk\"`` was the only search type.\n",
    "*   Create a new column, frisk, that is ``True`` if ``search_type`` contains the string ``\"Protective Frisk\"`` and ``False`` otherwise.\n",
    "*   Check the data type of frisk to confirm that it's a ``Boolean Series``.\n",
    "*   Take the sum of frisk to count the total number of frisks."
   ]
  },
  {
   "cell_type": "code",
   "execution_count": 190,
   "metadata": {},
   "outputs": [
    {
     "output_type": "execute_result",
     "data": {
      "text/plain": "NaN                                                         45998\nIncident to Arrest                                            958\nProbable Cause                                                244\nProtective Frisk                                              204\nInventory                                                     117\nIncident to Arrest,Inventory                                  116\nIncident to Arrest,Probable Cause                              76\nIncident to Arrest,Protective Frisk                            63\nReasonable Suspicion                                           43\nProbable Cause,Protective Frisk                                36\nIncident to Arrest,Inventory,Protective Frisk                  33\nInventory,Protective Frisk                                     23\nIncident to Arrest,Probable Cause,Protective Frisk             20\nIncident to Arrest,Inventory,Probable Cause                    19\nProtective Frisk,Reasonable Suspicion                          16\nInventory,Probable Cause                                       16\nProbable Cause,Reasonable Suspicion                            12\nIncident to Arrest,Reasonable Suspicion                         5\nProbable Cause,Protective Frisk,Reasonable Suspicion            5\nInventory,Probable Cause,Protective Frisk                       2\nIncident to Arrest,Probable Cause,Reasonable Suspicion          1\nIncident to Arrest,Inventory,Reasonable Suspicion               1\nInventory,Reasonable Suspicion                                  1\nIncident to Arrest,Protective Frisk,Reasonable Suspicion        1\nName: search_type, dtype: int64"
     },
     "metadata": {},
     "execution_count": 190
    }
   ],
   "source": [
    "ri.search_type.value_counts(dropna=False) "
   ]
  },
  {
   "cell_type": "code",
   "execution_count": 172,
   "metadata": {},
   "outputs": [],
   "source": [
    "ri[\"frisk\"]=ri.search_type.str.contains(\"Frisk\",na=False)"
   ]
  },
  {
   "cell_type": "code",
   "execution_count": 177,
   "metadata": {},
   "outputs": [
    {
     "output_type": "execute_result",
     "data": {
      "text/plain": "dtype('bool')"
     },
     "metadata": {},
     "execution_count": 177
    }
   ],
   "source": [
    "ri.frisk.dtype"
   ]
  },
  {
   "cell_type": "code",
   "execution_count": 176,
   "metadata": {},
   "outputs": [
    {
     "output_type": "execute_result",
     "data": {
      "text/plain": "403"
     },
     "metadata": {},
     "execution_count": 176
    }
   ],
   "source": [
    "ri.frisk.sum() #ri[[\"frisk\"]].value_counts()"
   ]
  },
  {
   "cell_type": "markdown",
   "metadata": {},
   "source": [
    "***"
   ]
  },
  {
   "cell_type": "markdown",
   "metadata": {},
   "source": [
    "## Comparing frisk rates by gender"
   ]
  },
  {
   "cell_type": "markdown",
   "metadata": {},
   "source": [
    "You'll compare the rates at which female and male drivers are frisked during a search. Are males frisked more often than females, perhaps because police officers consider them to be higher risk?\n",
    "\n",
    "Before doing any calculations, it's important to filter the ``DataFrame`` to only include the relevant subset of data, namely stops in which a search was conducted."
   ]
  },
  {
   "cell_type": "markdown",
   "metadata": {},
   "source": [
    "**INSTRUCTIONS**\n",
    "\n",
    "*   Create a ``DataFrame``, searched, that only contains rows in which ``search_conducted`` is ``True``.\n",
    "*   Take the mean of the frisk column to find out what percentage of searches included a frisk.\n",
    "*   Calculate the frisk rate for each gender using a ``.groupby()``."
   ]
  },
  {
   "cell_type": "code",
   "execution_count": 191,
   "metadata": {},
   "outputs": [],
   "source": [
    "searched = ri[ri.search_conducted == True]"
   ]
  },
  {
   "cell_type": "code",
   "execution_count": 195,
   "metadata": {},
   "outputs": [
    {
     "output_type": "execute_result",
     "data": {
      "text/plain": "0.20029821073558648"
     },
     "metadata": {},
     "execution_count": 195
    }
   ],
   "source": [
    "searched.frisk.mean() # ri.frisk.mean()=0.00839408456571547 includes all searchs"
   ]
  },
  {
   "cell_type": "code",
   "execution_count": 197,
   "metadata": {},
   "outputs": [
    {
     "output_type": "execute_result",
     "data": {
      "text/plain": "driver_gender\nF    0.164557\nM    0.205070\nName: frisk, dtype: float64"
     },
     "metadata": {},
     "execution_count": 197
    }
   ],
   "source": [
    "searched.groupby(by=\"driver_gender\").frisk.mean()"
   ]
  },
  {
   "cell_type": "code",
   "execution_count": null,
   "metadata": {},
   "outputs": [],
   "source": []
  }
 ],
 "metadata": {
  "kernelspec": {
   "display_name": "Python 3",
   "language": "python",
   "name": "python3"
  },
  "language_info": {
   "codemirror_mode": {
    "name": "ipython",
    "version": 3
   },
   "file_extension": ".py",
   "mimetype": "text/x-python",
   "name": "python",
   "nbconvert_exporter": "python",
   "pygments_lexer": "ipython3",
   "version": "3.7.7-final"
  }
 },
 "nbformat": 4,
 "nbformat_minor": 4
}